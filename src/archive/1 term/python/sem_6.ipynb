{
 "cells": [
  {
   "cell_type": "markdown",
   "id": "1bc1faf2",
   "metadata": {},
   "source": [
    "# Практическое занятие № 6"
   ]
  },
  {
   "cell_type": "markdown",
   "id": "720a6f9c",
   "metadata": {},
   "source": [
    "Для работы с боьшими объёмами данных удобным форматом является массив. Рассмотрим библиотеку для работы с массивами.\n",
    "\n",
    "**NumPy** — это библиотека Python, которую применяют для математических вычислений: начиная с базовых функций и заканчивая линейной алгеброй. Полное название библиотеки — **Numerical Python extensions**, или **«Числовые расширения Python»**.\n",
    "\n",
    "Где используется NumPy?"
   ]
  },
  {
   "cell_type": "markdown",
   "id": "cf5d0112",
   "metadata": {},
   "source": [
    "Библиотека NumPy используется:\n",
    "    \n",
    "* **Научные вычисления**\n",
    "\n",
    "NumPy хорошо зарекомендовавший себя инструмент для решения многомерных задач в математике и физике, биоинформатике, вычислительной химии и даже когнитивной психологии.\n",
    "\n",
    "* **Создание новых массивных библиотек**\n",
    "\n",
    "На основе NumPy появляются новые типы массивов, возможности которых выходят за рамки того, что предлагает библиотека. Например, библиотеки Dask, CuPy или XND.\n",
    "\n",
    "* **Data Science**\n",
    "\n",
    "В основе экосистемы для анализа данных лежит NumPy. Библиотека используется на всех этапах работы с данными: извлечение и преобразование, анализ, моделирование и оценка, препрезентация.\n",
    "\n",
    "* **Machine Learning**\n",
    "\n",
    "Библиотеки для машинного обучения scikit-learn и SciPy тоже работают благодаря вычислительным мощностям NumPy.\n",
    "\n",
    "* **Визуализация данных** \n",
    "\n",
    "По сравнению непосредственно с Python возможности NumPy позволяют исследователям визуализировать наборы данных, которые гораздо больше по размеру. Например, библиотека лежит в основе системы PyViz, которая включает в себя десятки программ для визуализации."
   ]
  },
  {
   "cell_type": "markdown",
   "id": "82387ce5",
   "metadata": {},
   "source": [
    "Основными объектами с которыми работает библиотека NumPy являются **массивы**. \n",
    "\n",
    "**Массив Numpy** — это многомерный массив (ndarray, n-dimensional array) данных, над которыми можно быстро и эффективно выполнять множество математических, статистических, логических и других операций.\n",
    "\n",
    "Массивы могут иметь различную размерность и всегда содержат объекты только одного типа.\n",
    "Двумерный массив можно представить как таблицу где строки это первое измерение, а столбцы - второе. \n"
   ]
  },
  {
   "cell_type": "markdown",
   "id": "028b4a80",
   "metadata": {},
   "source": [
    "Массив можно создать через np.array() передав в качестве аргумента список из которого нужно создать массив. Если будет передан пустой список, то будет создан пустой массив."
   ]
  },
  {
   "cell_type": "code",
   "execution_count": 2,
   "id": "d6518c91",
   "metadata": {},
   "outputs": [],
   "source": [
    "import numpy as np\n",
    "import matplotlib.pyplot as plt"
   ]
  },
  {
   "cell_type": "code",
   "execution_count": 3,
   "id": "44c8c6d5",
   "metadata": {},
   "outputs": [],
   "source": [
    "arr = np.array([])"
   ]
  },
  {
   "cell_type": "code",
   "execution_count": 4,
   "id": "c7c8577e",
   "metadata": {},
   "outputs": [
    {
     "name": "stdout",
     "output_type": "stream",
     "text": [
      "<class 'numpy.ndarray'>\n",
      "[]\n"
     ]
    }
   ],
   "source": [
    "print(type(arr))\n",
    "print(arr)"
   ]
  },
  {
   "cell_type": "markdown",
   "id": "93e1b237",
   "metadata": {},
   "source": [
    "Массив может быть нулевой размерности (это число (скаляр) и квадратных скобок не имеет)."
   ]
  },
  {
   "cell_type": "code",
   "execution_count": 57,
   "id": "986f2a0b",
   "metadata": {},
   "outputs": [
    {
     "data": {
      "text/plain": [
       "array(42)"
      ]
     },
     "execution_count": 57,
     "metadata": {},
     "output_type": "execute_result"
    }
   ],
   "source": [
    "arr_0D = np.array(42)\n",
    "arr_0D"
   ]
  },
  {
   "cell_type": "code",
   "execution_count": 5,
   "id": "09f48599",
   "metadata": {},
   "outputs": [
    {
     "name": "stdout",
     "output_type": "stream",
     "text": [
      "<class 'numpy.ndarray'>\n",
      "[0 1 2 3 4 5 6 7 8 9]\n"
     ]
    }
   ],
   "source": [
    "arr = np.array([i for i in range(10)])\n",
    "print(type(arr))\n",
    "print(arr)"
   ]
  },
  {
   "cell_type": "code",
   "execution_count": 6,
   "id": "b4c3538f",
   "metadata": {},
   "outputs": [
    {
     "data": {
      "text/plain": [
       "array([0, 1, 2, 3, 4, 5, 6, 7, 8, 9])"
      ]
     },
     "execution_count": 6,
     "metadata": {},
     "output_type": "execute_result"
    }
   ],
   "source": [
    "arr = np.array((0, 1, 2, 3, 4, 5, 6, 7, 8, 9))\n",
    "arr"
   ]
  },
  {
   "cell_type": "markdown",
   "id": "29845807",
   "metadata": {},
   "source": [
    "А вот создать массив по строке таким образом не получится."
   ]
  },
  {
   "cell_type": "code",
   "execution_count": 9,
   "id": "ecbe4372",
   "metadata": {},
   "outputs": [
    {
     "name": "stdout",
     "output_type": "stream",
     "text": [
      "<class 'numpy.ndarray'>\n",
      "18217492830924\n"
     ]
    },
    {
     "ename": "TypeError",
     "evalue": "len() of unsized object",
     "output_type": "error",
     "traceback": [
      "\u001b[1;31m---------------------------------------------------------------------------\u001b[0m",
      "\u001b[1;31mTypeError\u001b[0m                                 Traceback (most recent call last)",
      "\u001b[1;32m~\\AppData\\Local\\Temp\\ipykernel_8004\\143596956.py\u001b[0m in \u001b[0;36m<module>\u001b[1;34m\u001b[0m\n\u001b[0;32m      2\u001b[0m \u001b[0mprint\u001b[0m\u001b[1;33m(\u001b[0m\u001b[0mtype\u001b[0m\u001b[1;33m(\u001b[0m\u001b[0marr\u001b[0m\u001b[1;33m)\u001b[0m\u001b[1;33m)\u001b[0m\u001b[1;33m\u001b[0m\u001b[1;33m\u001b[0m\u001b[0m\n\u001b[0;32m      3\u001b[0m \u001b[0mprint\u001b[0m\u001b[1;33m(\u001b[0m\u001b[0marr\u001b[0m\u001b[1;33m)\u001b[0m\u001b[1;33m\u001b[0m\u001b[1;33m\u001b[0m\u001b[0m\n\u001b[1;32m----> 4\u001b[1;33m \u001b[0mprint\u001b[0m\u001b[1;33m(\u001b[0m\u001b[0mlen\u001b[0m\u001b[1;33m(\u001b[0m\u001b[0marr\u001b[0m\u001b[1;33m)\u001b[0m\u001b[1;33m)\u001b[0m\u001b[1;33m\u001b[0m\u001b[1;33m\u001b[0m\u001b[0m\n\u001b[0m",
      "\u001b[1;31mTypeError\u001b[0m: len() of unsized object"
     ]
    }
   ],
   "source": [
    "arr = np.array('18217492830924')\n",
    "print(type(arr))\n",
    "print(arr)\n",
    "print(len(arr))"
   ]
  },
  {
   "cell_type": "markdown",
   "id": "3058159b",
   "metadata": {},
   "source": [
    "Другой вариант создание массива заключается в использовании функции np.arange(10). Эта функция имеет три параметра, как и функция range().\n",
    "Обязательным параметром является верхняя граница, которая не входит в последовательность."
   ]
  },
  {
   "cell_type": "code",
   "execution_count": 13,
   "id": "44c528d3",
   "metadata": {},
   "outputs": [
    {
     "data": {
      "text/plain": [
       "array([0, 1, 2, 3, 4, 5, 6, 7, 8, 9])"
      ]
     },
     "execution_count": 13,
     "metadata": {},
     "output_type": "execute_result"
    }
   ],
   "source": [
    "arr = np.arange(10)\n",
    "arr"
   ]
  },
  {
   "cell_type": "markdown",
   "id": "12c68066",
   "metadata": {},
   "source": [
    "Различие range() и функции np.arange() состоит в том, что range() не допускает использования типа float."
   ]
  },
  {
   "cell_type": "markdown",
   "id": "8c0e6bd8",
   "metadata": {},
   "source": [
    "Тип элементов массива можно задать явным образом:"
   ]
  },
  {
   "cell_type": "code",
   "execution_count": 17,
   "id": "930e0dd1",
   "metadata": {},
   "outputs": [
    {
     "data": {
      "text/plain": [
       "array([ 0,  1,  2,  3,  4,  5,  6,  7,  8,  9, 10])"
      ]
     },
     "execution_count": 17,
     "metadata": {},
     "output_type": "execute_result"
    }
   ],
   "source": [
    "arr_i = np.array([0, 1, 2, 3, 4, 5, 6, 7, 8, 9, 10], int)\n",
    "arr_i"
   ]
  },
  {
   "cell_type": "code",
   "execution_count": 18,
   "id": "edc3a7df",
   "metadata": {},
   "outputs": [
    {
     "data": {
      "text/plain": [
       "array([ 0.,  1.,  2.,  3.,  4.,  5.,  6.,  7.,  8.,  9., 10.])"
      ]
     },
     "execution_count": 18,
     "metadata": {},
     "output_type": "execute_result"
    }
   ],
   "source": [
    "arr_f = np.array([0, 1, 2, 3, 4, 5, 6, 7, 8, 9, 10], float)\n",
    "arr_f"
   ]
  },
  {
   "cell_type": "code",
   "execution_count": 19,
   "id": "98fc8b69",
   "metadata": {},
   "outputs": [
    {
     "data": {
      "text/plain": [
       "array(['0', '1', '2', '3', '4', '5', '6', '7', '8', '9', '10'],\n",
       "      dtype='<U2')"
      ]
     },
     "execution_count": 19,
     "metadata": {},
     "output_type": "execute_result"
    }
   ],
   "source": [
    "arr_s = np.array([0, 1, 2, 3, 4, 5, 6, 7, 8, 9, 10], str)\n",
    "arr_s"
   ]
  },
  {
   "cell_type": "markdown",
   "id": "3670368a",
   "metadata": {},
   "source": [
    "### Свойства (атрибуты) массива"
   ]
  },
  {
   "cell_type": "markdown",
   "id": "944f099d",
   "metadata": {},
   "source": [
    "Одним из свойств массива является количество его измерений - это атрибут ndim."
   ]
  },
  {
   "cell_type": "code",
   "execution_count": 23,
   "id": "92613781",
   "metadata": {},
   "outputs": [
    {
     "name": "stdout",
     "output_type": "stream",
     "text": [
      "[1 2 3 4 5]\n",
      "1\n"
     ]
    }
   ],
   "source": [
    "arr = np.array([1, 2, 3, 4, 5])\n",
    "print(arr)\n",
    "print(arr.ndim)"
   ]
  },
  {
   "cell_type": "markdown",
   "id": "c4f00671",
   "metadata": {},
   "source": [
    "С помощью атрибута shape можно вывести количество элементов в каждом измерении."
   ]
  },
  {
   "cell_type": "code",
   "execution_count": 24,
   "id": "3f8e7cd7",
   "metadata": {},
   "outputs": [
    {
     "data": {
      "text/plain": [
       "(5,)"
      ]
     },
     "execution_count": 24,
     "metadata": {},
     "output_type": "execute_result"
    }
   ],
   "source": [
    "arr.shape"
   ]
  },
  {
   "cell_type": "markdown",
   "id": "bb2189f0",
   "metadata": {},
   "source": [
    "Атрибут size выводит общее количество элементов во всех измерениях."
   ]
  },
  {
   "cell_type": "code",
   "execution_count": 53,
   "id": "e4c0af4e",
   "metadata": {},
   "outputs": [
    {
     "data": {
      "text/plain": [
       "5"
      ]
     },
     "execution_count": 53,
     "metadata": {},
     "output_type": "execute_result"
    }
   ],
   "source": [
    "arr.size"
   ]
  },
  {
   "cell_type": "markdown",
   "id": "a75631d1",
   "metadata": {},
   "source": [
    "С помощью атрибута dtype можно вывести тип данных отдельного элемента."
   ]
  },
  {
   "cell_type": "code",
   "execution_count": 54,
   "id": "eb7a63d8",
   "metadata": {},
   "outputs": [
    {
     "data": {
      "text/plain": [
       "dtype('int32')"
      ]
     },
     "execution_count": 54,
     "metadata": {},
     "output_type": "execute_result"
    }
   ],
   "source": [
    "arr.dtype"
   ]
  },
  {
   "cell_type": "markdown",
   "id": "7696ccbc",
   "metadata": {},
   "source": [
    "Атрибут itemsize позволяет узнать размер в байтах (один байт состоит из 8 бит) одного элемента."
   ]
  },
  {
   "cell_type": "code",
   "execution_count": 55,
   "id": "6988f9f7",
   "metadata": {},
   "outputs": [
    {
     "data": {
      "text/plain": [
       "4"
      ]
     },
     "execution_count": 55,
     "metadata": {},
     "output_type": "execute_result"
    }
   ],
   "source": [
    "arr.itemsize"
   ]
  },
  {
   "cell_type": "markdown",
   "id": "7edfb486",
   "metadata": {},
   "source": [
    "Общий размер массива в байтах можно вывести через атрибут nbytes. "
   ]
  },
  {
   "cell_type": "code",
   "execution_count": 56,
   "id": "06238e71",
   "metadata": {},
   "outputs": [
    {
     "data": {
      "text/plain": [
       "20"
      ]
     },
     "execution_count": 56,
     "metadata": {},
     "output_type": "execute_result"
    }
   ],
   "source": [
    "arr.nbytes"
   ]
  },
  {
   "cell_type": "markdown",
   "id": "fffd4297",
   "metadata": {},
   "source": [
    "## Операции с массивами"
   ]
  },
  {
   "cell_type": "markdown",
   "id": "33248470",
   "metadata": {},
   "source": [
    "Нахождение `нормы` вектора:"
   ]
  },
  {
   "cell_type": "code",
   "execution_count": 25,
   "id": "960fd558",
   "metadata": {},
   "outputs": [
    {
     "name": "stdout",
     "output_type": "stream",
     "text": [
      "1.7320508075688772 1.7320508075688772\n"
     ]
    }
   ],
   "source": [
    "a = np.array([1.0, -1.0, 1.0])\n",
    "print(np.linalg.norm(a), 3 ** 0.5)"
   ]
  },
  {
   "cell_type": "markdown",
   "id": "5c307759",
   "metadata": {},
   "source": [
    "Есть поэлементное и скалярное произведение массивов:"
   ]
  },
  {
   "cell_type": "code",
   "execution_count": 26,
   "id": "0ebfe6b7",
   "metadata": {},
   "outputs": [
    {
     "name": "stdout",
     "output_type": "stream",
     "text": [
      "[ 1.  0. 20.]\n",
      "21.0\n"
     ]
    }
   ],
   "source": [
    "a = np.array([1.0, 0.0, 2.0])\n",
    "b = np.array([1.0, 15.0, 10.0])\n",
    "print(a * b)\n",
    "print(a @ b)"
   ]
  },
  {
   "cell_type": "markdown",
   "id": "7c536350",
   "metadata": {},
   "source": [
    "Операция `@` определена для матриц. Напомним, что матрицы размерами $n*k_1$ и $k_2*m$ можно перемножить тогда и только тогда, когда $k_1=k_2$. Метод `reshape` меняет форму и размерность массива, к которому он применяется. В скобках указываются размеры нового массива, при этом, можно указывать в качестве одного из аргументов `-1`. В этом случае размер этой оси будет рассчитан автоматически:"
   ]
  },
  {
   "cell_type": "code",
   "execution_count": 27,
   "id": "d4ddeae2",
   "metadata": {},
   "outputs": [
    {
     "name": "stdout",
     "output_type": "stream",
     "text": [
      "[[1.]\n",
      " [0.]\n",
      " [2.]]\n",
      "\n",
      "[[ 1.]\n",
      " [15.]\n",
      " [10.]]\n"
     ]
    }
   ],
   "source": [
    "a = np.array([1.0, 0.0, 2.0]).reshape(-1, 1)\n",
    "b = np.array([1.0, 15.0, 10.0]).reshape(-1, 1)\n",
    "print(a)\n",
    "print()\n",
    "print(b)"
   ]
  },
  {
   "cell_type": "code",
   "execution_count": 28,
   "id": "146bd163",
   "metadata": {},
   "outputs": [
    {
     "ename": "ValueError",
     "evalue": "matmul: Input operand 1 has a mismatch in its core dimension 0, with gufunc signature (n?,k),(k,m?)->(n?,m?) (size 3 is different from 1)",
     "output_type": "error",
     "traceback": [
      "\u001b[1;31m---------------------------------------------------------------------------\u001b[0m",
      "\u001b[1;31mValueError\u001b[0m                                Traceback (most recent call last)",
      "\u001b[1;32m~\\AppData\\Local\\Temp\\ipykernel_8004\\2182946130.py\u001b[0m in \u001b[0;36m<module>\u001b[1;34m\u001b[0m\n\u001b[1;32m----> 1\u001b[1;33m \u001b[0mprint\u001b[0m\u001b[1;33m(\u001b[0m\u001b[0ma\u001b[0m \u001b[1;33m@\u001b[0m \u001b[0mb\u001b[0m\u001b[1;33m)\u001b[0m\u001b[1;33m\u001b[0m\u001b[1;33m\u001b[0m\u001b[0m\n\u001b[0m",
      "\u001b[1;31mValueError\u001b[0m: matmul: Input operand 1 has a mismatch in its core dimension 0, with gufunc signature (n?,k),(k,m?)->(n?,m?) (size 3 is different from 1)"
     ]
    }
   ],
   "source": [
    "print(a @ b)"
   ]
  },
  {
   "cell_type": "markdown",
   "id": "a0732923",
   "metadata": {},
   "source": [
    "Получили ошибку, потому что пытались перемножить 2 матрицы $3*1$."
   ]
  },
  {
   "cell_type": "code",
   "execution_count": 29,
   "id": "8c279597",
   "metadata": {},
   "outputs": [
    {
     "name": "stdout",
     "output_type": "stream",
     "text": [
      "[[1. 0. 2.]]\n",
      "\n",
      "[[ 1.]\n",
      " [15.]\n",
      " [10.]]\n"
     ]
    }
   ],
   "source": [
    "a = np.array([1.0, 0.0, 2.0]).reshape(1, -1)\n",
    "b = np.array([1.0, 15.0, 10.0]).reshape(-1, 1)\n",
    "print(a)\n",
    "print()\n",
    "print(b)"
   ]
  },
  {
   "cell_type": "code",
   "execution_count": 30,
   "id": "46c61fee",
   "metadata": {},
   "outputs": [
    {
     "name": "stdout",
     "output_type": "stream",
     "text": [
      "[[21.]]\n"
     ]
    }
   ],
   "source": [
    "print(a @ b)"
   ]
  },
  {
   "cell_type": "markdown",
   "id": "2e306781",
   "metadata": {},
   "source": [
    "Получили двумерную матрицу размером $1*1$. Чтобы вытащить число, обратимся к нему по индексам:"
   ]
  },
  {
   "cell_type": "code",
   "execution_count": 31,
   "id": "490579c4",
   "metadata": {},
   "outputs": [
    {
     "name": "stdout",
     "output_type": "stream",
     "text": [
      "21.0\n"
     ]
    }
   ],
   "source": [
    "print((a @ b)[0][0])"
   ]
  },
  {
   "attachments": {
    "image.png": {
     "image/png": "[encoded data removed]"
    }
   },
   "cell_type": "markdown",
   "id": "e4038b56",
   "metadata": {},
   "source": [
    "Чтобы провести через набор экспериментальных точек наилучшую прямую, используются следующие формулы:![image.png](attachment:image.png)"
   ]
  },
  {
   "cell_type": "code",
   "execution_count": 34,
   "id": "d4727594",
   "metadata": {},
   "outputs": [
    {
     "name": "stdout",
     "output_type": "stream",
     "text": [
      "[0.         0.55555556 1.11111111 1.66666667 2.22222222 2.77777778\n",
      " 3.33333333 3.88888889 4.44444444 5.        ]\n",
      "[-5.         -3.88888889 -2.77777778 -1.66666667 -0.55555556  0.55555556\n",
      "  1.66666667  2.77777778  3.88888889  5.        ]\n"
     ]
    },
    {
     "data": {
      "text/plain": [
       "<matplotlib.collections.PathCollection at 0x2db57120970>"
      ]
     },
     "execution_count": 34,
     "metadata": {},
     "output_type": "execute_result"
    },
    {
     "data": {
      "image/png": "[encoded data removed]",
      "text/plain": [
       "<Figure size 640x480 with 1 Axes>"
      ]
     },
     "metadata": {},
     "output_type": "display_data"
    }
   ],
   "source": [
    "x = np.linspace(0.0, 5.0, 10)\n",
    "y = 2 * x - 5\n",
    "print(x)\n",
    "print(y)\n",
    "plt.scatter(x, y)\n",
    "plt.show()"
   ]
  },
  {
   "cell_type": "markdown",
   "id": "d3fd7cb8",
   "metadata": {},
   "source": [
    "Добавим к данным шум. `np.random.randn(n)` вовзвращает `n` сэмплов из стандартного нормального распределения."
   ]
  },
  {
   "cell_type": "code",
   "execution_count": 35,
   "id": "bd7ee1e8",
   "metadata": {},
   "outputs": [
    {
     "name": "stdout",
     "output_type": "stream",
     "text": [
      "[-0.6334215   0.9669881   0.04059511 -0.81584875  1.59351606  0.37904894\n",
      " -1.20934464  1.20992423 -0.74206437  1.92468647]\n",
      "[-0.1266843   0.19339762  0.00811902 -0.16316975  0.31870321  0.07580979\n",
      " -0.24186893  0.24198485 -0.14841287  0.38493729]\n"
     ]
    }
   ],
   "source": [
    "eps = np.random.randn(y.shape[0])\n",
    "print(eps)\n",
    "print(eps * 0.2)"
   ]
  },
  {
   "cell_type": "code",
   "execution_count": 36,
   "id": "d4b8193f",
   "metadata": {},
   "outputs": [
    {
     "data": {
      "text/plain": [
       "<matplotlib.collections.PathCollection at 0x2db57183bb0>"
      ]
     },
     "execution_count": 36,
     "metadata": {},
     "output_type": "execute_result"
    },
    {
     "data": {
      "image/png": "[encoded data removed]",
      "text/plain": [
       "<Figure size 640x480 with 1 Axes>"
      ]
     },
     "metadata": {},
     "output_type": "display_data"
    }
   ],
   "source": [
    "y = y + eps * 0.2\n",
    "plt.scatter(x, y);"
   ]
  },
  {
   "cell_type": "code",
   "execution_count": null,
   "id": "c3556bc4",
   "metadata": {},
   "outputs": [],
   "source": []
  },
  {
   "cell_type": "markdown",
   "id": "b4f433a8",
   "metadata": {},
   "source": [
    "Библиотеку `numpy` удобно использовать для решения систем линейных уравнений. Если система уравнений $Ax=y$ имеет решение, и при этом только одно, то оно выражается как $x=A^{-1} y$. Для обращения матрицы используется функция `np.linalg.inv`. Рассмотрим систему уравнений:\n",
    "$$\n",
    "\\left\\{ \n",
    "\\begin{array}{c}\n",
    "y+3z=-1 \\\\ \n",
    "2x+3y+5z=3 \\\\ \n",
    "3x+5y+7z=6\n",
    "\\end{array}\n",
    "\\right. \n",
    "$$"
   ]
  },
  {
   "cell_type": "code",
   "execution_count": 37,
   "id": "0074699f",
   "metadata": {
    "scrolled": true
   },
   "outputs": [
    {
     "name": "stdout",
     "output_type": "stream",
     "text": [
      "[ 1.  2. -1.]\n"
     ]
    }
   ],
   "source": [
    "A = np.array([[0.0, 1.0, 3.0],\n",
    "              [2.0, 3.0, 5.0],\n",
    "              [3.0, 5.0, 7.0]])\n",
    "y = np.array([-1.0, 3.0, 6.0])\n",
    "print(np.linalg.inv(A) @ y)"
   ]
  },
  {
   "cell_type": "markdown",
   "id": "1ff8809d",
   "metadata": {},
   "source": [
    "## Другие функции и особенности numpy"
   ]
  },
  {
   "cell_type": "code",
   "execution_count": 38,
   "id": "3c763be9",
   "metadata": {},
   "outputs": [
    {
     "name": "stdout",
     "output_type": "stream",
     "text": [
      "[ True False False]\n",
      "True\n",
      "False\n"
     ]
    }
   ],
   "source": [
    "a = np.array([1.0, 2.0, 3.0])\n",
    "b = np.array([1.0, 1.0, 1.0])\n",
    "print(a == b)\n",
    "print((a == b).any())\n",
    "print((a == b).all())"
   ]
  },
  {
   "cell_type": "markdown",
   "id": "0114a22f",
   "metadata": {},
   "source": [
    "Отсюда возникает следующая ситуация: в условной конструкции `if`, а также в цикле `while` в условии нужно указывать `any` или `all`."
   ]
  },
  {
   "cell_type": "code",
   "execution_count": 39,
   "id": "45aca54e",
   "metadata": {},
   "outputs": [
    {
     "name": "stdout",
     "output_type": "stream",
     "text": [
      "[[1. 1.]]\n"
     ]
    },
    {
     "ename": "ValueError",
     "evalue": "The truth value of an array with more than one element is ambiguous. Use a.any() or a.all()",
     "output_type": "error",
     "traceback": [
      "\u001b[1;31m---------------------------------------------------------------------------\u001b[0m",
      "\u001b[1;31mValueError\u001b[0m                                Traceback (most recent call last)",
      "\u001b[1;32m~\\AppData\\Local\\Temp\\ipykernel_8004\\3089701533.py\u001b[0m in \u001b[0;36m<module>\u001b[1;34m\u001b[0m\n\u001b[0;32m      2\u001b[0m \u001b[0mb\u001b[0m \u001b[1;33m=\u001b[0m \u001b[0ma\u001b[0m\u001b[1;33m\u001b[0m\u001b[1;33m\u001b[0m\u001b[0m\n\u001b[0;32m      3\u001b[0m \u001b[0mprint\u001b[0m\u001b[1;33m(\u001b[0m\u001b[0ma\u001b[0m\u001b[1;33m)\u001b[0m\u001b[1;33m\u001b[0m\u001b[1;33m\u001b[0m\u001b[0m\n\u001b[1;32m----> 4\u001b[1;33m \u001b[1;32mif\u001b[0m \u001b[0ma\u001b[0m \u001b[1;33m==\u001b[0m \u001b[0mb\u001b[0m\u001b[1;33m:\u001b[0m\u001b[1;33m\u001b[0m\u001b[1;33m\u001b[0m\u001b[0m\n\u001b[0m\u001b[0;32m      5\u001b[0m     \u001b[0mprint\u001b[0m\u001b[1;33m(\u001b[0m\u001b[1;36m1\u001b[0m\u001b[1;33m)\u001b[0m\u001b[1;33m\u001b[0m\u001b[1;33m\u001b[0m\u001b[0m\n",
      "\u001b[1;31mValueError\u001b[0m: The truth value of an array with more than one element is ambiguous. Use a.any() or a.all()"
     ]
    }
   ],
   "source": [
    "a = np.ones((1, 2))\n",
    "b = a\n",
    "print(a)\n",
    "if a == b:\n",
    "    print(1)"
   ]
  },
  {
   "cell_type": "code",
   "execution_count": 40,
   "id": "f6d3abda",
   "metadata": {},
   "outputs": [
    {
     "name": "stdout",
     "output_type": "stream",
     "text": [
      "1\n"
     ]
    }
   ],
   "source": [
    "a = np.ones((1, 2))\n",
    "b = a\n",
    "if (a == b).all():\n",
    "    print(1)"
   ]
  },
  {
   "cell_type": "markdown",
   "id": "b65b8eb6",
   "metadata": {},
   "source": [
    "Функции `zeros`, `ones` используются для создания массивов заданного размера, заполненных нулями или единицами. Выше при рисовании графика для создания массива x была использована функция `linspace(a, b, n)`, которая создает массив n чисел от a до b, упорядоченных по возрастанию с равными интервалами. Существуют также функции для агрегации (`all` и `any` тоже относятся к ним):"
   ]
  },
  {
   "cell_type": "code",
   "execution_count": 41,
   "id": "8205f3f7",
   "metadata": {},
   "outputs": [
    {
     "name": "stdout",
     "output_type": "stream",
     "text": [
      "21.0\n",
      "3.0\n",
      "1.4285714285714286\n",
      "1.1952286093343936\n",
      "5.0\n",
      "1.0\n"
     ]
    }
   ],
   "source": [
    "a = np.array([1.0, 2.0, 3.0, 3.0, 3.0, 4.0, 5.0])\n",
    "print(a.sum())\n",
    "print(a.mean())\n",
    "print(a.var())\n",
    "print(a.std())\n",
    "print(a.max())\n",
    "print(a.min())"
   ]
  },
  {
   "cell_type": "markdown",
   "id": "d214ffc7",
   "metadata": {},
   "source": [
    "Можно делать срезы и свертку по осям:"
   ]
  },
  {
   "cell_type": "code",
   "execution_count": 42,
   "id": "8c945965",
   "metadata": {},
   "outputs": [
    {
     "name": "stdout",
     "output_type": "stream",
     "text": [
      "[[1. 2.]\n",
      " [1. 2.]]\n"
     ]
    }
   ],
   "source": [
    "a = np.array([[1.0, 2.0, 3.0, 3.0, 3.0, 4.0, 5.0],\n",
    "              [1.0, 2.0, 3.0, 3.0, 3.0, 4.0, 5.0],\n",
    "              [1.0, 2.0, 3.0, 3.0, 3.0, 4.0, 5.0]])\n",
    "print(a[:2,:2])"
   ]
  },
  {
   "cell_type": "code",
   "execution_count": 43,
   "id": "7802f5ac",
   "metadata": {},
   "outputs": [
    {
     "name": "stdout",
     "output_type": "stream",
     "text": [
      "[[1. 2. 3. 3.]\n",
      " [1. 2. 3. 3.]\n",
      " [1. 2. 3. 3.]]\n"
     ]
    }
   ],
   "source": [
    "print(a[:,:4])"
   ]
  },
  {
   "cell_type": "code",
   "execution_count": 44,
   "id": "1ff36d51",
   "metadata": {},
   "outputs": [
    {
     "name": "stdout",
     "output_type": "stream",
     "text": [
      "[[1. 2. 3. 3. 3. 4. 5.]\n",
      " [1. 2. 3. 3. 3. 4. 5.]]\n"
     ]
    }
   ],
   "source": [
    "print(a[1:,:])"
   ]
  },
  {
   "cell_type": "code",
   "execution_count": 45,
   "id": "76c4a275",
   "metadata": {},
   "outputs": [
    {
     "name": "stdout",
     "output_type": "stream",
     "text": [
      "21.0 21.0\n",
      "[5. 7. 9.]\n",
      "[ 6. 15.]\n",
      "6.0 6.0\n",
      "[4. 5. 6.]\n",
      "[3. 6.]\n"
     ]
    }
   ],
   "source": [
    "a = np.array([[1.0, 2.0, 3.0],\n",
    "              [4.0, 5.0, 6.0]])\n",
    "print(a.sum(), np.sum(a))\n",
    "print(np.sum(a, axis=0))\n",
    "print(np.sum(a, axis=1))\n",
    "print(a.max(), np.max(a))\n",
    "print(np.max(a, axis=0))\n",
    "print(np.max(a, axis=1))"
   ]
  },
  {
   "cell_type": "markdown",
   "id": "55f830f6",
   "metadata": {},
   "source": [
    "# Векторизация"
   ]
  },
  {
   "cell_type": "code",
   "execution_count": 47,
   "id": "3661378f",
   "metadata": {},
   "outputs": [
    {
     "name": "stdout",
     "output_type": "stream",
     "text": [
      "[1. 4. 9.]\n"
     ]
    }
   ],
   "source": [
    "def f(x):\n",
    "      return x ** 2\n",
    "a = np.array([1.0, 2.0, 3.0])\n",
    "print(np.vectorize(f)(a))"
   ]
  },
  {
   "cell_type": "code",
   "execution_count": 48,
   "id": "9b446ace",
   "metadata": {},
   "outputs": [
    {
     "name": "stdout",
     "output_type": "stream",
     "text": [
      "[ 1. 16. 81.]\n"
     ]
    }
   ],
   "source": [
    "print(np.vectorize(f)(np.vectorize(f)(a)))"
   ]
  },
  {
   "cell_type": "code",
   "execution_count": 49,
   "id": "f8d396b1",
   "metadata": {},
   "outputs": [
    {
     "name": "stdout",
     "output_type": "stream",
     "text": [
      "[ 1. 16. 81.]\n"
     ]
    }
   ],
   "source": [
    "f1 = np.vectorize(f)\n",
    "print(f1(f1(a)))"
   ]
  },
  {
   "cell_type": "markdown",
   "id": "5eb96bfd",
   "metadata": {},
   "source": [
    "## Логические матрицы"
   ]
  },
  {
   "cell_type": "code",
   "execution_count": 51,
   "id": "2353a802",
   "metadata": {},
   "outputs": [
    {
     "name": "stdout",
     "output_type": "stream",
     "text": [
      "[1.]\n",
      "[2. 3.]\n"
     ]
    }
   ],
   "source": [
    "a = np.array([1.0, 2.0, 3.0])\n",
    "print(a[a < 2])\n",
    "print(a[a >= 2])"
   ]
  },
  {
   "cell_type": "code",
   "execution_count": 52,
   "id": "756ad588",
   "metadata": {},
   "outputs": [
    {
     "name": "stdout",
     "output_type": "stream",
     "text": [
      "[0. 2. 3.]\n"
     ]
    }
   ],
   "source": [
    "a[a < 2] = 0\n",
    "print(a)"
   ]
  },
  {
   "cell_type": "code",
   "execution_count": 10,
   "id": "1aafaa54",
   "metadata": {},
   "outputs": [
    {
     "name": "stdout",
     "output_type": "stream",
     "text": [
      "[1.5 3. ]\n"
     ]
    }
   ],
   "source": [
    "a = np.array([1.0, 2.0, 3.0])\n",
    "b = np.array([1.5, 3.0, 3.0])\n",
    "print(b[a <= 2])"
   ]
  },
  {
   "cell_type": "markdown",
   "id": "3c464560",
   "metadata": {},
   "source": [
    "Часто используется также функция `np.where`. У нее 3 аргумента - условие, значение элемента, если условие выполняется и значение элемента, если условие не выполняется."
   ]
  },
  {
   "cell_type": "code",
   "execution_count": 12,
   "id": "010bd7cb",
   "metadata": {},
   "outputs": [
    {
     "name": "stdout",
     "output_type": "stream",
     "text": [
      "[-1.  0.  0. -4.  0.]\n"
     ]
    }
   ],
   "source": [
    "a = np.array([-1.0, 2.0, 3.0, -4.0, 5.0])\n",
    "print(np.where(a < 0, a, 0))"
   ]
  },
  {
   "cell_type": "code",
   "execution_count": 13,
   "id": "1582fa7e",
   "metadata": {},
   "outputs": [
    {
     "name": "stdout",
     "output_type": "stream",
     "text": [
      "[ 0.  0.  0. -4.  0.]\n"
     ]
    }
   ],
   "source": [
    "a = np.array([-1.0, 2.0, 3.0, -4.0, 5.0])\n",
    "print(np.where((a < 0) & (a % 2 == 0), a, 0))"
   ]
  },
  {
   "cell_type": "code",
   "execution_count": 14,
   "id": "6b6e555f",
   "metadata": {},
   "outputs": [
    {
     "data": {
      "text/plain": [
       "array([-4.])"
      ]
     },
     "execution_count": 14,
     "metadata": {},
     "output_type": "execute_result"
    }
   ],
   "source": [
    "a = np.array([-1.0, 2.0, 3.0, -4.0, 5.0])\n",
    "a[(a < 0) & (a % 2 == 0)]"
   ]
  },
  {
   "cell_type": "markdown",
   "id": "50ee622d",
   "metadata": {},
   "source": [
    "### Создание массива из функции индексов"
   ]
  },
  {
   "cell_type": "code",
   "execution_count": 15,
   "id": "d2535955",
   "metadata": {},
   "outputs": [
    {
     "data": {
      "text/plain": [
       "array([[0, 1, 2],\n",
       "       [1, 2, 3],\n",
       "       [2, 3, 4]])"
      ]
     },
     "execution_count": 15,
     "metadata": {},
     "output_type": "execute_result"
    }
   ],
   "source": [
    "np.fromfunction(lambda i, j: i + j, (3, 3), dtype=int)"
   ]
  },
  {
   "cell_type": "code",
   "execution_count": 16,
   "id": "06f62f20",
   "metadata": {},
   "outputs": [
    {
     "data": {
      "text/plain": [
       "array([[0, 0, 0],\n",
       "       [1, 1, 1],\n",
       "       [2, 2, 2]])"
      ]
     },
     "execution_count": 16,
     "metadata": {},
     "output_type": "execute_result"
    }
   ],
   "source": [
    "np.fromfunction(lambda i, j: i, (3, 3), dtype=int)"
   ]
  },
  {
   "cell_type": "code",
   "execution_count": 17,
   "id": "bb9adf41",
   "metadata": {},
   "outputs": [
    {
     "data": {
      "text/plain": [
       "array([[0, 1, 2],\n",
       "       [0, 1, 2],\n",
       "       [0, 1, 2]])"
      ]
     },
     "execution_count": 17,
     "metadata": {},
     "output_type": "execute_result"
    }
   ],
   "source": [
    "np.fromfunction(lambda i, j: j, (3, 3), dtype=int)"
   ]
  },
  {
   "cell_type": "markdown",
   "id": "434261ee",
   "metadata": {},
   "source": [
    "# Задания"
   ]
  },
  {
   "cell_type": "markdown",
   "id": "cb929e89",
   "metadata": {},
   "source": [
    "1. Перемножить матрицы (поэлементное умножение) $A$ и $B$ двумя способами: с использованием numpy, затем без использования numpy."
   ]
  },
  {
   "cell_type": "code",
   "execution_count": 11,
   "id": "ad9588d4",
   "metadata": {},
   "outputs": [],
   "source": [
    "A = np.array([[1.0, 2.0, 3.0],\n",
    "              [4.0, 5.0, 6.0]])\n",
    "B = np.array([[1.0, 0.0],\n",
    "              [0.0, 1.0],\n",
    "              [1.0, 1.0]])"
   ]
  },
  {
   "cell_type": "code",
   "execution_count": 12,
   "id": "34e98160",
   "metadata": {},
   "outputs": [
    {
     "name": "stdout",
     "output_type": "stream",
     "text": [
      "[[ 4.  5.]\n",
      " [10. 11.]]\n",
      "[4.0, 5.0]\n",
      "[10.0, 11.0]\n"
     ]
    }
   ],
   "source": [
    "res1 = A @ B\n",
    "print(res1)\n",
    "\n",
    "res2 = list()\n",
    "for i in range(A.shape[0]):\n",
    "    res2.append(list())\n",
    "    for j in range(B.shape[1]):\n",
    "        res2[-1].append(sum([A[i][q] * B[q][j] for q in range(A.shape[1])]))\n",
    "print(*res2, sep='\\n')"
   ]
  },
  {
   "cell_type": "markdown",
   "id": "f8a72f91",
   "metadata": {},
   "source": [
    "2. Перемножить матрицы (скалярное произведение) $A$ и $B$ двумя способами: с использованием numpy, затем без использования numpy."
   ]
  },
  {
   "cell_type": "code",
   "execution_count": 14,
   "id": "a6c65bc6",
   "metadata": {},
   "outputs": [
    {
     "name": "stdout",
     "output_type": "stream",
     "text": [
      "[[1. 0. 3.]\n",
      " [0. 5. 6.]]\n",
      "[1.0, 0.0, 3.0]\n",
      "[0.0, 5.0, 6.0]\n"
     ]
    }
   ],
   "source": [
    "print(A * B.T)\n",
    "\n",
    "res = list()\n",
    "for i in range(A.shape[0]):\n",
    "    res.append(list())\n",
    "    for j in range(A.shape[1]):\n",
    "        res[-1].append(A[i][j] * B.T[i][j])\n",
    "print(*res, sep='\\n')"
   ]
  },
  {
   "cell_type": "markdown",
   "id": "e5d2719e",
   "metadata": {},
   "source": [
    "3. Используя данные постройте наилучшую прямую для приближения данных точек."
   ]
  },
  {
   "cell_type": "code",
   "execution_count": 4,
   "id": "7397fad2",
   "metadata": {},
   "outputs": [
    {
     "data": {
      "image/png": "[encoded data removed]",
      "text/plain": [
       "<Figure size 640x480 with 1 Axes>"
      ]
     },
     "metadata": {},
     "output_type": "display_data"
    }
   ],
   "source": [
    "x = np.linspace(0.0, 10.0, 200)\n",
    "y = 10 * x - 6\n",
    "eps = np.random.randn(y.shape[0])\n",
    "y = y + eps * 0.7\n",
    "\n",
    "plt.scatter(x, y)\n",
    "plt.show()"
   ]
  },
  {
   "cell_type": "code",
   "execution_count": 5,
   "id": "d77a89cb",
   "metadata": {},
   "outputs": [
    {
     "data": {
      "image/png": "[encoded data removed]",
      "text/plain": [
       "<Figure size 640x480 with 1 Axes>"
      ]
     },
     "metadata": {},
     "output_type": "display_data"
    }
   ],
   "source": [
    "xy = x * y\n",
    "square_x = np.array(np.vectorize(lambda x: x ** 2)(x))\n",
    "\n",
    "k = (xy.mean() - x.mean() * y.mean()) / (square_x.mean() - x.mean() ** 2)\n",
    "b = y.mean() - k * x.mean()\n",
    "new_x = x\n",
    "new_y = k * x + b\n",
    "\n",
    "plt.scatter(new_x, new_y)\n",
    "plt.show()"
   ]
  },
  {
   "cell_type": "markdown",
   "id": "973319f8",
   "metadata": {},
   "source": [
    "4. Решить систему уравнений:\n",
    "$$\n",
    "\\left\\{ \n",
    "\\begin{array}{c}\n",
    "2x+3y+4z+5t=30 \\\\ \n",
    "3x+3y+4z+5t=34 \\\\ \n",
    "4x+4y+4z+5t=41 \\\\\n",
    "x+y+z+t=10\n",
    "\\end{array}\n",
    "\\right. \n",
    "$$"
   ]
  },
  {
   "cell_type": "code",
   "execution_count": 25,
   "id": "bfd0e077",
   "metadata": {},
   "outputs": [
    {
     "name": "stdout",
     "output_type": "stream",
     "text": [
      "[14. -7.  2.  1.]\n"
     ]
    }
   ],
   "source": [
    "vars = np.array([[2, 3, 4, 5],\n",
    "                [3, 3, 4, 5],\n",
    "                [4, 4, 4, 5],\n",
    "                [1, 1, 1, 1]], float)\n",
    "frees = np.array([20, 34, 41, 10], float)\n",
    "print(np.linalg.inv(vars) @ frees)"
   ]
  },
  {
   "cell_type": "markdown",
   "id": "2cd88ca7",
   "metadata": {},
   "source": [
    "5. Вам необходимо:\n",
    "\n",
    "* Создать матрицу случайных чисел $3*5$ из стандартного нормального распределения. \n",
    "\n",
    "* Среди наибольших элементов в столбцах найти наименьший.\n",
    "\n",
    "* Умножить эту матрицу на себя транспонированную.\n",
    "\n",
    "* Найти стандартное отклонение по строкам, по столбцам и по всей матрице.\n",
    "\n",
    "* Для разных размеров таких матриц посмотреть, как будет меняться std по всей матрице в зависимости от ее размеров. Можно \n",
    "рассмотреть квадратные матрицы $n*n$, где n будет равномерно расти от 10 до 1010. Использовать `linspace` для `n`, построить график."
   ]
  },
  {
   "cell_type": "code",
   "execution_count": 47,
   "id": "1bf383ab",
   "metadata": {},
   "outputs": [
    {
     "name": "stdout",
     "output_type": "stream",
     "text": [
      "[[ 1.04835776  0.23090472 -1.92804379  1.3841932  -1.14085199]\n",
      " [-0.75483645  1.23622741 -0.59222649  0.76263857  0.03719405]\n",
      " [-0.44050383  0.54354276 -0.6716276   1.71072411 -1.66189111]]\n",
      "-0.5922264928636272\n",
      "[[8.08725793 1.64915692 5.22257288]\n",
      " [1.64915692 3.03176948 2.64505818]\n",
      " [5.22257288 2.64505818 6.62902505]]\n",
      "1.2692030248194845 0.76639755747124 1.14673413270356\n",
      "0.7864846690296458 0.4200830965673546 0.6118545588556515 0.39325123501299225 0.7107245626302917\n"
     ]
    },
    {
     "data": {
      "text/plain": [
       "Text(0.5, 0, 'n - размер выборки')"
      ]
     },
     "execution_count": 47,
     "metadata": {},
     "output_type": "execute_result"
    },
    {
     "data": {
      "image/png": "[encoded data removed]",
      "text/plain": [
       "<Figure size 640x480 with 1 Axes>"
      ]
     },
     "metadata": {},
     "output_type": "display_data"
    }
   ],
   "source": [
    "def sigma(lst) -> float:\n",
    "    mean = lst.mean()\n",
    "    return ((sum([(lst[i] - mean) ** 2 for i in range(len(lst))])) / len(lst)) ** 0.5\n",
    "\n",
    "\n",
    "a = np.array([np.random.randn(5) for _ in range(3)])\n",
    "print(a)\n",
    "print(np.min(a.max(axis=0)))\n",
    "print(a @ a.T)\n",
    "print(*(sigma(row) for row in a))\n",
    "print(*(sigma(a[:, i]) for i in range(a.shape[1])))\n",
    "a = list()\n",
    "for n in range(10, 1010, 10):\n",
    "    a.append(np.array([np.linspace(-100, 100, n) for _ in range(n)]).std())\n",
    "    \n",
    "plt.scatter(range(10, 1010, 10), a)\n",
    "plt.title('Стандартное отклонение для выборки из n случайных чисел')\n",
    "plt.ylabel('Стандартное отклонение')\n",
    "plt.xlabel('n - размер выборки')"
   ]
  },
  {
   "cell_type": "markdown",
   "id": "30f51060",
   "metadata": {},
   "source": [
    "6. На основе массивов a и b с помощью функции `vectorize` создайте массив, каждый элемент которого - минимальный по модулю из соответствующих элементов a и b."
   ]
  },
  {
   "cell_type": "code",
   "execution_count": 7,
   "id": "732dc796",
   "metadata": {},
   "outputs": [
    {
     "name": "stdout",
     "output_type": "stream",
     "text": [
      "[-3.  -1.5 -3. ]\n"
     ]
    }
   ],
   "source": [
    "a = np.array([1.0, 2.0, -3.0])\n",
    "b = np.array([-3.0, -1.5, 3.5])\n",
    "print(np.vectorize(lambda x, y: min(x, y))(a, b))"
   ]
  },
  {
   "cell_type": "markdown",
   "id": "398dc28c",
   "metadata": {},
   "source": [
    "7. Умножить матрицу A на себя транспонированную. В исходной матрице обнулить те элементы, которые больше, чем элементы в полученной матрице, стоящие на тех же местах. \n",
    "\n",
    "Примечание: \n",
    "A.T (можно также использовать функцию transpose()) - транспонирование матрицы A."
   ]
  },
  {
   "cell_type": "code",
   "execution_count": 10,
   "id": "edbccbbd",
   "metadata": {},
   "outputs": [
    {
     "name": "stdout",
     "output_type": "stream",
     "text": [
      "[ 1.  2. -3.]\n",
      "[ 1.  2. -3.]\n",
      "14.0\n",
      "[0 0 0]\n"
     ]
    }
   ],
   "source": [
    "print(a)\n",
    "print(a.T)\n",
    "print(a @ a.T)\n",
    "print(np.vectorize(lambda x, y: 0 if x > y else x)(a @ a.T, a.T))"
   ]
  },
  {
   "cell_type": "markdown",
   "id": "16181f7d",
   "metadata": {},
   "source": [
    "8. С помощью `linspace` создать массив из натуральных чисел от 1 до 31. Из него удалить те элементы, которые не делятся на 3. Среди оставшихся обнулить те, которые делятся на 2."
   ]
  },
  {
   "cell_type": "code",
   "execution_count": 22,
   "id": "ad5a85e6",
   "metadata": {},
   "outputs": [
    {
     "name": "stdout",
     "output_type": "stream",
     "text": [
      "[ 1  1  2  3  4  5  6  7  8  9 10 11 12 13 14 15 16 17 18 19 20 21 22 23\n",
      " 24 25 26 27 28 29 30 31]\n",
      "[ 3  0  9  0 15  0 21  0 27  0]\n"
     ]
    }
   ],
   "source": [
    "arr = np.linspace(1, 31.9, 32, dtype=int)\n",
    "print(arr)\n",
    "arr = arr[arr % 3 == 0]\n",
    "print(np.vectorize(lambda x: 0 if not x % 2 else x)(arr))"
   ]
  },
  {
   "cell_type": "markdown",
   "id": "d936b7cb",
   "metadata": {},
   "source": [
    "9. Создайте с помощью `fromfunction` единичную матрицу."
   ]
  },
  {
   "cell_type": "code",
   "execution_count": 71,
   "id": "8b4eec92",
   "metadata": {},
   "outputs": [
    {
     "name": "stdout",
     "output_type": "stream",
     "text": [
      "[[1 0 0 0 0]\n",
      " [0 1 0 0 0]\n",
      " [0 0 1 0 0]\n",
      " [0 0 0 1 0]\n",
      " [0 0 0 0 1]]\n"
     ]
    }
   ],
   "source": [
    "print(np.fromfunction(lambda i, j: i == j, (5, 5), dtype=int).astype(int))"
   ]
  },
  {
   "cell_type": "markdown",
   "id": "9d1d3251",
   "metadata": {},
   "source": [
    "10. Дан массив (числа от -100 до 100), поменять знак у элементов, значения которых между 1 и 10."
   ]
  },
  {
   "cell_type": "code",
   "execution_count": 72,
   "id": "ec636ffa",
   "metadata": {},
   "outputs": [
    {
     "name": "stdout",
     "output_type": "stream",
     "text": [
      "[-100  -99  -98  -97  -96  -95  -94  -93  -92  -91  -90  -89  -88  -87\n",
      "  -86  -85  -84  -83  -82  -81  -80  -79  -78  -77  -76  -75  -74  -73\n",
      "  -72  -71  -70  -69  -68  -67  -66  -65  -64  -63  -62  -61  -60  -59\n",
      "  -58  -57  -56  -55  -54  -53  -52  -51  -50  -49  -48  -47  -46  -45\n",
      "  -44  -43  -42  -41  -40  -39  -38  -37  -36  -35  -34  -33  -32  -31\n",
      "  -30  -29  -28  -27  -26  -25  -24  -23  -22  -21  -20  -19  -18  -17\n",
      "  -16  -15  -14  -13  -12  -11  -10   -9   -8   -7   -6   -5   -4   -3\n",
      "   -2   -1    0    1   -2   -3   -4   -5   -6   -7   -8   -9   10   11\n",
      "   12   13   14   15   16   17   18   19   20   21   22   23   24   25\n",
      "   26   27   28   29   30   31   32   33   34   35   36   37   38   39\n",
      "   40   41   42   43   44   45   46   47   48   49   50   51   52   53\n",
      "   54   55   56   57   58   59   60   61   62   63   64   65   66   67\n",
      "   68   69   70   71   72   73   74   75   76   77   78   79   80   81\n",
      "   82   83   84   85   86   87   88   89   90   91   92   93   94   95\n",
      "   96   97   98   99  100]\n"
     ]
    }
   ],
   "source": [
    "arr = np.arange(-100, 101)\n",
    "print(np.vectorize(lambda x: -x if 1 < x < 10 else x)(arr))"
   ]
  },
  {
   "cell_type": "markdown",
   "id": "0fbdfc6f",
   "metadata": {},
   "source": [
    "11. С клавиатуры введены элементы двух массивов. В одной строке вводится один массив. Проверить, одинаковы ли 2 numpy массива."
   ]
  },
  {
   "cell_type": "code",
   "execution_count": 79,
   "id": "bc2ebae1",
   "metadata": {},
   "outputs": [
    {
     "name": "stdout",
     "output_type": "stream",
     "text": [
      "True\n"
     ]
    }
   ],
   "source": [
    "arr1 = np.array(list(map(int, input().split())))\n",
    "arr2 = np.array(list(map(int, input().split())))\n",
    "print((arr1 == arr2).all())"
   ]
  },
  {
   "cell_type": "markdown",
   "id": "b2a2bbbe",
   "metadata": {},
   "source": [
    "12. Сделать массив неизменяемым (для этого потребуется посмотреть документацию)."
   ]
  },
  {
   "cell_type": "code",
   "execution_count": 80,
   "id": "eec77127",
   "metadata": {},
   "outputs": [
    {
     "name": "stdout",
     "output_type": "stream",
     "text": [
      "assignment destination is read-only\n"
     ]
    }
   ],
   "source": [
    "arr = np.array(list(map(int, input().split())))\n",
    "arr.flags.writeable = False\n",
    "try:\n",
    "    arr[0] = 1\n",
    "except Exception as ex:\n",
    "    print(ex)"
   ]
  },
  {
   "cell_type": "markdown",
   "id": "96174a4d",
   "metadata": {},
   "source": [
    "13. Определить, есть ли в 2D массиве столбцы из единиц."
   ]
  },
  {
   "cell_type": "code",
   "execution_count": 88,
   "id": "4faeef9f",
   "metadata": {},
   "outputs": [
    {
     "name": "stdout",
     "output_type": "stream",
     "text": [
      "True\n"
     ]
    }
   ],
   "source": [
    "n, m = map(int, input().split())\n",
    "lst = list()\n",
    "for _ in range(n):\n",
    "    lst.append(list(map(int, input().split())))\n",
    "arr = np.array(lst)\n",
    "result = [np.where(arr[:, i] == 1, 1, 0).all() for i in range(arr.shape[1])]\n",
    "print(any(result))"
   ]
  },
  {
   "cell_type": "markdown",
   "id": "6dd1c13e",
   "metadata": {},
   "source": [
    "14. Найти наиболее частое значение в массиве."
   ]
  },
  {
   "cell_type": "code",
   "execution_count": 91,
   "id": "ad7eb46b",
   "metadata": {},
   "outputs": [
    {
     "name": "stdout",
     "output_type": "stream",
     "text": [
      "3\n",
      "[2 1 4 2 2 1 1] 2\n"
     ]
    }
   ],
   "source": [
    "arr = np.array(list(map(int, input().split())))\n",
    "vars, counts = np.unique(arr, return_counts=True)\n",
    "print(vars[np.argmax(counts)])"
   ]
  },
  {
   "cell_type": "markdown",
   "id": "6e7dc594",
   "metadata": {},
   "source": [
    "15. Найти n наибольших значений в массиве."
   ]
  },
  {
   "cell_type": "code",
   "execution_count": 92,
   "id": "50650eb5",
   "metadata": {},
   "outputs": [
    {
     "name": "stdout",
     "output_type": "stream",
     "text": [
      "[5, 5, 6]\n"
     ]
    }
   ],
   "source": [
    "n = int(input())\n",
    "print(sorted(np.array(list(map(int, input().split()))))[-n:])"
   ]
  },
  {
   "cell_type": "markdown",
   "id": "7c99e781",
   "metadata": {},
   "source": [
    "16. Создать вектор размера 10 со значениями от 0 до 1, не включая ни то, ни другое."
   ]
  },
  {
   "cell_type": "code",
   "execution_count": 104,
   "id": "62058a78",
   "metadata": {},
   "outputs": [
    {
     "name": "stdout",
     "output_type": "stream",
     "text": [
      "[0.65452652 0.3090322  0.14260493 0.61132086 0.80987163 0.75270262\n",
      " 0.38602352 0.47464345 0.60888645 0.47087496]\n"
     ]
    }
   ],
   "source": [
    "arr = np.random.random(10)\n",
    "while arr[arr == 0].any():\n",
    "    arr = np.random.random(10)\n",
    "print(arr)"
   ]
  },
  {
   "cell_type": "markdown",
   "id": "419ffba1",
   "metadata": {},
   "source": [
    "17. Создать структурированный массив, представляющий координату (x,y) и цвет (r,g,b)."
   ]
  },
  {
   "cell_type": "code",
   "execution_count": 106,
   "id": "2a47d40e",
   "metadata": {},
   "outputs": [
    {
     "name": "stdout",
     "output_type": "stream",
     "text": [
      "[((0., 0.), (0., 0., 0.)) ((0., 0.), (0., 0., 0.))\n",
      " ((0., 0.), (0., 0., 0.)) ((0., 0.), (0., 0., 0.))\n",
      " ((0., 0.), (0., 0., 0.)) ((0., 0.), (0., 0., 0.))\n",
      " ((0., 0.), (0., 0., 0.)) ((0., 0.), (0., 0., 0.))\n",
      " ((0., 0.), (0., 0., 0.)) ((0., 0.), (0., 0., 0.))\n",
      " ((0., 0.), (0., 0., 0.)) ((0., 0.), (0., 0., 0.))\n",
      " ((0., 0.), (0., 0., 0.)) ((0., 0.), (0., 0., 0.))\n",
      " ((0., 0.), (0., 0., 0.)) ((0., 0.), (0., 0., 0.))\n",
      " ((0., 0.), (0., 0., 0.)) ((0., 0.), (0., 0., 0.))\n",
      " ((0., 0.), (0., 0., 0.))]\n"
     ]
    },
    {
     "name": "stderr",
     "output_type": "stream",
     "text": [
      "C:\\Users\\ryazh\\AppData\\Local\\Temp\\ipykernel_1008\\1770802043.py:2: FutureWarning: Passing (type, 1) or '1type' as a synonym of type is deprecated; in a future version of numpy, it will be understood as (type, (1,)) / '(1,)type'.\n",
      "  Z = np.zeros(n, [\n"
     ]
    }
   ],
   "source": [
    "n = int(input())\n",
    "Z = np.zeros(n, [\n",
    "    (\n",
    "        'position',\n",
    "        [(\n",
    "            'x', float, 1),\n",
    "            (\n",
    "                'y', float, 1)\n",
    "        ]),\n",
    "    (\n",
    "        'color',\n",
    "        [(\n",
    "            'r', float, 1),\n",
    "            (\n",
    "                'g', float, 1),\n",
    "            (\n",
    "                'b', float, 1)\n",
    "        ])\n",
    "])\n",
    "print(Z)"
   ]
  },
  {
   "cell_type": "markdown",
   "id": "8a6e8f17",
   "metadata": {},
   "source": [
    "18. Создайте случайную матрицу. Вычтите среднее из каждой строки в матрице."
   ]
  },
  {
   "cell_type": "code",
   "execution_count": 108,
   "id": "6008fe00",
   "metadata": {},
   "outputs": [
    {
     "name": "stdout",
     "output_type": "stream",
     "text": [
      "[[ 67 -51 -69]\n",
      " [ 48 -88 -44]]\n",
      "[[ 84.66666667 -33.33333333 -51.33333333]\n",
      " [ 76.         -60.         -16.        ]]\n"
     ]
    }
   ],
   "source": [
    "n, m = map(int, input().split())\n",
    "lst = list()\n",
    "for i in range(n):\n",
    "    lst.append([np.random.randint(-99, 100) for _ in range(m)])\n",
    "arr = np.array(lst)\n",
    "print(arr)\n",
    "arr = arr - arr.mean(axis=1, keepdims=True)\n",
    "print(arr)"
   ]
  },
  {
   "cell_type": "markdown",
   "id": "2e5fab2d",
   "metadata": {},
   "source": [
    "19. Дан набор из 10 троек, описывающих 10 треугольников (с общими вершинами). Найдите множество уникальных отрезков, составляющих все треугольники."
   ]
  },
  {
   "cell_type": "code",
   "execution_count": 114,
   "id": "31f95fb5",
   "metadata": {},
   "outputs": [
    {
     "name": "stdout",
     "output_type": "stream",
     "text": [
      "[[13 46 81]\n",
      " [83  5 79]\n",
      " [86 37 15]\n",
      " [53 96 23]\n",
      " [81 81 26]\n",
      " [38 14  8]\n",
      " [10 77  8]\n",
      " [86 47 69]\n",
      " [13 95 76]\n",
      " [52 60 44]]\n",
      "[ 5  8 10 13 14 15 23 26 37 38 44 46 47 52 53 60 69 76 77 79 81 83 86 95\n",
      " 96]\n"
     ]
    }
   ],
   "source": [
    "faces = np.random.randint(0,100,(10,3))\n",
    "print(faces)\n",
    "F = np.roll(faces.repeat(2,axis=1),-1,axis=1)\n",
    "F = F.reshape(len(F)*3,2)\n",
    "F = np.sort(F,axis=1)\n",
    "G = np.unique(F)\n",
    "print(G)"
   ]
  },
  {
   "cell_type": "markdown",
   "id": "1bb32588",
   "metadata": {},
   "source": [
    "20. Дана 10x3 матрица (сгенерируйте как матрицу из случайных целых чисел от 0 до 100), найти строки из неравных значений (например [2,2,3])."
   ]
  },
  {
   "cell_type": "code",
   "execution_count": 111,
   "id": "a1f0e9f4",
   "metadata": {},
   "outputs": [
    {
     "name": "stdout",
     "output_type": "stream",
     "text": [
      "[[98 32 91]\n",
      " [98 56 58]\n",
      " [42 80 67]\n",
      " [51 32 14]\n",
      " [54 32 36]\n",
      " [46 11 37]\n",
      " [20 13 58]\n",
      " [62  7 19]\n",
      " [ 1 28 31]\n",
      " [69 14 14]]\n",
      "[98 32 91]\n",
      "[98 56 58]\n",
      "[42 80 67]\n",
      "[51 32 14]\n",
      "[54 32 36]\n",
      "[46 11 37]\n",
      "[20 13 58]\n",
      "[62  7 19]\n",
      "[ 1 28 31]\n"
     ]
    }
   ],
   "source": [
    "lst = list()\n",
    "for i in range(10):\n",
    "    lst.append([np.random.randint(0, 101) for _ in range(3)])\n",
    "arr = np.array(lst)\n",
    "print(arr)\n",
    "for row in arr:\n",
    "    if len(set(row)) == 3:\n",
    "        print(row)"
   ]
  }
 ],
 "metadata": {
  "kernelspec": {
   "display_name": "Python 3",
   "language": "python",
   "name": "python3"
  },
  "language_info": {
   "codemirror_mode": {
    "name": "ipython",
    "version": 3
   },
   "file_extension": ".py",
   "mimetype": "text/x-python",
   "name": "python",
   "nbconvert_exporter": "python",
   "pygments_lexer": "ipython3",
   "version": "3.9.13"
  }
 },
 "nbformat": 4,
 "nbformat_minor": 5
}
