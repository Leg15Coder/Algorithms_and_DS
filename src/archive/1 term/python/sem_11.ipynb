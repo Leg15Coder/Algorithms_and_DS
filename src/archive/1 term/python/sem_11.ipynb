{
 "cells": [
  {
   "cell_type": "markdown",
   "id": "cc9180ab",
   "metadata": {},
   "source": [
    "# Практическое занятие № 11\n",
    "\n",
    "# Синхронное и асинхронное программирование"
   ]
  },
  {
   "cell_type": "markdown",
   "id": "2905a413",
   "metadata": {},
   "source": [
    "В программировании есть два противоположных стиля написания кода - синхронное и асинхронное программирование.\n",
    "\n",
    "**Синхронные программы** используют блокирующие операции ввода-вывода, в которых каждая операция должна выполняться до выполнения следующей. \n",
    "\n",
    "**Асинхронное программирование** основано на неблокирующем протоколе ввода-вывода (I/O), т. е. асинхронная программа не выполняет операции в иерархическом или последовательном порядке. В результате получается распараллеливание которое означает, что асинхронная программа может обрабатывать несколько запросов одновременно и независимо. Если один запрос завершается неудачно, то это не влияет на другой запрос и программа может перейти к другой задаче до завершения последней. "
   ]
  },
  {
   "cell_type": "markdown",
   "id": "b8681819-bc1d-478f-84e6-012fe602b634",
   "metadata": {},
   "source": [
    "## Модуль asyncio"
   ]
  },
  {
   "cell_type": "markdown",
   "id": "0ffecaa8",
   "metadata": {},
   "source": [
    "**Asyncio** — это модуль в стандартной библиотеке Python, который предоставляет инфраструктуру для написания одновременного кода с использованием асинхронных операций ввода-вывода.\n",
    "\n",
    "Модуль **asyncio** использует однопоточный однопроцессный подход, в котором части приложения взаимодействуют для явного переключения задач в оптимальное время. Чаще всего это переключение контекста происходит, когда программа не блокирует ожидание чтения или записи данных (например http или socket протоколы). Этот модуль также включает поддержку кода планирования для запуска задачи в определенное время в будущем, чтобы одна сопрограмма могла ждать завершения другой для обработки системных сигналов, а также для распознавания других событий, которые могут быть причиной изменения приложением того, над чем оно работает.\n",
    "\n",
    "Примечание: Не пытайтесь использовать модуль asyncio для кода, который использует вызовы, блокирующие поток программы, например файловый ввод/вывод. Из-за блокировок код будет выполняться синхронно. Для таких задач есть альтернативные встроенные модули, такие как threading и multiprocessing, у которых практически одинаковый API. Если вам все же необходим запуск блокирующих операций из асинхронного кода, то воспользуйтесь модулем concurrent.futures, что бы запустить такие операции в отдельном потоке или на другом ядре процессора.\n",
    "\n",
    "Модуль asyncio предоставляет высокоуровневый API.\n",
    "\n",
    "`Высокоуровневый API` позволяет:\n",
    "\n",
    "* одновременно запускать сопрограммы Python и полностью контролировать их выполнение;\n",
    "* выполнять сетевой ввод-вывод и IPC;\n",
    "* контролировать ход подпроцессов;\n",
    "* распределять задачи по очередям;\n",
    "\n",
    "Помимо, высокоуровневого API есть низкоуровневый. Низкоуровневый API в основном предназначен для разработчиков библиотек и фреймворков, которым нужен более тонкий контроль над поведением цикла событий.\n",
    "\n",
    "`Низкоуровневый API` обеспечивает:\n",
    "\n",
    "* создание и управление циклами событий, которые предоставляют асинхронный API для работы в сети, запуска подпроцессов, обработки сигналов ОС и т. д;\n",
    "* реализацию эффективных протоколов с использованием транспортов;\n",
    "( обеспечения взаимодействия объектов future на основе обратного вызова и высокоуровнего кода, основанного на синтаксисе async/await."
   ]
  },
  {
   "cell_type": "code",
   "execution_count": 1,
   "id": "5ee81a9c-816a-4b43-afca-f0417407b670",
   "metadata": {},
   "outputs": [],
   "source": [
    "import asyncio"
   ]
  },
  {
   "cell_type": "code",
   "execution_count": 2,
   "id": "1ff90102",
   "metadata": {},
   "outputs": [
    {
     "name": "stdout",
     "output_type": "stream",
     "text": [
      "hello\n",
      "world\n"
     ]
    }
   ],
   "source": [
    "async def fn():\n",
    "  print('hello')\n",
    "  await asyncio.sleep(1)\n",
    "  print('world')\n",
    "\n",
    "await fn()"
   ]
  },
  {
   "cell_type": "markdown",
   "id": "56761d93",
   "metadata": {},
   "source": [
    "**Сопрограммы или coroutines**, объявленные с синтаксисом async/await, являются предпочтительным способом написания приложений, с использованием модуля asyncio.\n",
    "\n",
    "Механизмы запуска сопрограммы:\n",
    "\n",
    "1. Основной цикл событий (точку входа верхнего уровня) можно запустить при помощи функция asyncio.run(). \n",
    "\n",
    "2. Запуск сопрограмм, которые должны или могут ждать каких-то результатов (например, ответа сервера с результатами запроса) запускаются оператором await.\n",
    "\n",
    "Рассмотрим пример кода, который напечатает \"hello\" после ожидания в течение 1 секунды, а затем напечатает \"world\" после ожидания еще 2-х секунд:"
   ]
  },
  {
   "cell_type": "code",
   "execution_count": 3,
   "id": "d4f9353a-d5b5-41ff-b46f-33d09401dacd",
   "metadata": {},
   "outputs": [
    {
     "name": "stdout",
     "output_type": "stream",
     "text": [
      "started at 21:58:24\n",
      "hello\n",
      "world\n",
      "finished at 21:58:27\n"
     ]
    }
   ],
   "source": [
    "import asyncio, time\n",
    "\n",
    "async def say_after(delay, what):\n",
    "    \"\"\"Асинхронная функция (сопрограмма)\"\"\"\n",
    "    await asyncio.sleep(delay)\n",
    "    print(what)\n",
    "\n",
    "async def main():\n",
    "    \"\"\"Точка входа в асинхронную программу\"\"\"\n",
    "    print(f\"started at {time.strftime('%X')}\")\n",
    "\n",
    "    # запуск сопрограммы `say_after()` происходит при  \n",
    "    # помощи оператора `await`, т. к. в самой сопрограмме  \n",
    "    # есть объект ожидания - неблокирующая функция \n",
    "    # `asyncio.sleep()`, которая эмитирует ожидание ответа сервера\n",
    "    await say_after(1, 'hello')\n",
    "    await say_after(2, 'world')\n",
    "\n",
    "    print(f\"finished at {time.strftime('%X')}\")\n",
    "\n",
    "# запуск основного цикла событий \n",
    "await main()"
   ]
  },
  {
   "cell_type": "markdown",
   "id": "67217675",
   "metadata": {},
   "source": [
    "3. запуск сопрограмм можно осуществлять через создание и планирование задач при помощи функции asyncio.create_task(). Объекты задач Task также являются объектами ожидания результата, т.к. планируют запуск сопрограмм в будущем, как только это станет возможным. Следовательно задачи, то же запускаем оператором await\n",
    "\n",
    "Изменим предыдущий пример и одновременно запустим две сопрограммы say_after():"
   ]
  },
  {
   "cell_type": "code",
   "execution_count": 4,
   "id": "68048180-ca6f-4eb9-8c9d-6d9a80b9b471",
   "metadata": {},
   "outputs": [
    {
     "name": "stdout",
     "output_type": "stream",
     "text": [
      "started at 21:58:27\n",
      "hello\n",
      "world\n",
      "finished at 21:58:29\n"
     ]
    }
   ],
   "source": [
    "async def say_after(delay, what):\n",
    "    \"\"\"Асинхронная функция (сопрограмма)\"\"\"\n",
    "    await asyncio.sleep(delay)\n",
    "    print(what)\n",
    "\n",
    "async def main():\n",
    "    \"\"\"Точка входа в асинхронную программу\"\"\"\n",
    "\n",
    "    # создаем задачи `task1` и `task2`\n",
    "    task1 = asyncio.create_task(say_after(1, 'hello'))\n",
    "    task2 = asyncio.create_task(say_after(2, 'world'))\n",
    "\n",
    "    print(f\"started at {time.strftime('%X')}\")\n",
    "\n",
    "    # Ждем, пока обе задачи будут выполнены \n",
    "    # (должно занять около 2 секунд.)\n",
    "    await task1\n",
    "    await task2\n",
    "    print(f\"finished at {time.strftime('%X')}\")\n",
    "\n",
    "await main()"
   ]
  },
  {
   "cell_type": "markdown",
   "id": "b44d4056-e256-4087-ba81-dad8a28549b6",
   "metadata": {},
   "source": [
    "4. Класс asyncio.TaskGroup() (добавлен в Python 3.11) представляет собой более современную альтернативу asyncio.create_task(). Используя этот API, последний пример становится таким:"
   ]
  },
  {
   "cell_type": "code",
   "execution_count": 5,
   "id": "92132798-629e-443d-be97-bbe8415d57c0",
   "metadata": {},
   "outputs": [
    {
     "name": "stdout",
     "output_type": "stream",
     "text": [
      "finished at 21:58:29\n"
     ]
    }
   ],
   "source": [
    "async def main():\n",
    "  async with asyncio.TaskGroup() as tg:\n",
    "      task1 = tg.create_task(\n",
    "          say_after(1, 'hello'))\n",
    "\n",
    "      task2 = tg.create_task(\n",
    "          say_after(2, 'world'))\n",
    "\n",
    "      print(f\"started at {time.strftime('%X')}\")\n",
    "\n",
    "  # The wait is implicit when the context manager exits.\n",
    "\n",
    "print(f\"finished at {time.strftime('%X')}\")"
   ]
  },
  {
   "cell_type": "markdown",
   "id": "5ed1a1b7-b13e-4de8-b388-d76eb23c1aa8",
   "metadata": {},
   "source": [
    "##  Awaitable Объекты"
   ]
  },
  {
   "cell_type": "markdown",
   "id": "a672fe41-b5d0-43ff-9c65-0fe846876713",
   "metadata": {},
   "source": [
    "В асинхронном программировании есть так называемые объекты awaitable. Это объект, который, в какой-то момент времени может ничего полезного не делать, а заниматься только ожиданием каких-то результатов от сторонних сервисов (например ответа сервера с результатами на свой запрос). Такие объекты всегда запускаются с оператором await.\n",
    "\n",
    "Практически все API-интерфейсы модуля asyncio предназначены для приема awaitable объектов - объектов ждущих каких-то результатов или команд на продолжение или приостановку работы от основного цикла событий.\n",
    "\n",
    "Есть три основных типа объектов ожидания awaitable, которые можно запускать оператором await в асинхронном коде:\n",
    "\n",
    "* Сопрограмма coroutine - функция, определенная с оператором async.\n",
    "* Задача task - это сопрограмма, которая планируются для выполнения в будущем, как только это станет возможным.\n",
    "* Объекты будущих результатов futures - объект уже запущенной сопрограммы с еще неполученными/промежуточными результатами."
   ]
  },
  {
   "cell_type": "markdown",
   "id": "979e3db8-47d7-4d8b-854a-1d3b4daea05b",
   "metadata": {},
   "source": [
    "### Сопрограммы/сoroutines\n",
    "\n",
    "Сопрограммы в Python являются объектами, которые могут ждать результатов от сторонних сервисов или своей очереди выполнения, следовательно, их можно также использовать с оператором wait внутри других сопрограмм:"
   ]
  },
  {
   "cell_type": "code",
   "execution_count": 6,
   "id": "e49d6998-5ad4-4cc0-8295-86c40275df8b",
   "metadata": {},
   "outputs": [
    {
     "name": "stdout",
     "output_type": "stream",
     "text": [
      "42\n"
     ]
    },
    {
     "name": "stderr",
     "output_type": "stream",
     "text": [
      "C:\\Users\\medve\\AppData\\Local\\Temp\\ipykernel_23004\\129327137.py:8: RuntimeWarning: coroutine 'nested' was never awaited\n",
      "  nested()\n",
      "RuntimeWarning: Enable tracemalloc to get the object allocation traceback\n"
     ]
    }
   ],
   "source": [
    "async def nested():\n",
    "    return 42\n",
    "\n",
    "async def main():\n",
    "    # Ничего не происходит, если мы просто вызываем \"nested()\".\n",
    "    # Сопрограмма `nested()` создается, но не будет выполняться,\n",
    "    # т.к. в таком виде она заблокирует цикл событий, что недопустимо\n",
    "    nested()\n",
    "\n",
    "    # что бы асинхронная функция `nested()` заработала\n",
    "    # необходимо заставить ее ждать своего выполнения \n",
    "    # при помощи оператора `await`\n",
    "    print(await nested())\n",
    "\n",
    "await main()"
   ]
  },
  {
   "cell_type": "markdown",
   "id": "58b601d4-99fe-4ff3-9d1d-c4902ed62a33",
   "metadata": {},
   "source": [
    "### Задачи Task\n",
    "\n",
    "Задачи (asyncio.Task) используются для одновременного планирования запуска нескольких сопрограмм. Когда сопрограмма оборачивается в задачу (передается в функцию asyncio.create_task()), то сопрограмма будет автоматически запускаться в ближайшее время, как только будет это возможным:"
   ]
  },
  {
   "cell_type": "code",
   "execution_count": 7,
   "id": "2ea36047-851f-4820-a4df-f27b888de4ce",
   "metadata": {},
   "outputs": [],
   "source": [
    "async def nested():\n",
    "    return 42\n",
    "\n",
    "async def main():\n",
    "    # Запланируем запуск 'nested()' в одновременно с 'main()'.\n",
    "    task = asyncio.create_task(nested())\n",
    "\n",
    "    # объект 'task' может теперь использоваться, для отмены\n",
    "    # выполнения 'nested()' или ожидания ее выполнения:\n",
    "    await task\n",
    "\n",
    "await main()"
   ]
  },
  {
   "cell_type": "markdown",
   "id": "c1319215-6a0f-4579-a6be-afa534917850",
   "metadata": {},
   "source": [
    "### Futures - объекты с будущими результатами\n",
    "\n",
    "Future объект - инкапсулирует асинхронное выполнение вызываемого объекта и представляет специальный низкоуровневый объект, который хранит промежуточное состояние запущенной задачи (когда она что-то ожидает) и в будущем, будет представлять конечный результат асинхронной операции. Этот объект может хранить информацию о том, что задача ещё не выполнена или не до конца выполнена, или может хранить уже полученный результат, или исключение, полученное во время выполнения кода.\n",
    "\n",
    "Когда происходит ожидание объекта Future , это означает, что сопрограмма будет ждать, пока Future не будет разрешен в каком-то другом месте.\n",
    "\n",
    "Futures объекты позволяют использовать код на основе обратного вызова (который сообщает о готовности объекта Future) совместно с синтаксисом async/await, по этому они необходимы в асинхронном программировании.\n",
    "\n",
    "Нет необходимости создавать объекты Future на уровне приложения. В основном, эти объекты создаются автоматически, при вызове функций или методов, предоставляемыми асинхронными API модулей:"
   ]
  },
  {
   "cell_type": "code",
   "execution_count": 8,
   "id": "432e4ca1-6fdd-417a-a3ac-e94690cfc434",
   "metadata": {},
   "outputs": [],
   "source": [
    "async def main():\n",
    "    await function_that_returns_a_future_object()\n",
    "\n",
    "    # это тоже правильно:\n",
    "    await asyncio.gather(\n",
    "        function_that_returns_a_future_object(),\n",
    "        some_python_coroutine()\n",
    "    )"
   ]
  },
  {
   "cell_type": "markdown",
   "id": "a5bcba4d-dc02-47ad-a5eb-02d6aec92713",
   "metadata": {},
   "source": [
    "# Функция run() "
   ]
  },
  {
   "cell_type": "markdown",
   "id": "d480046c-a7a6-49e6-a935-cd989cd073e0",
   "metadata": {},
   "source": [
    "Функция asyncio.run() запускает цикл событий в асинхронном коде\n",
    "Синтаксис:\n",
    "import asyncio\n",
    "\n",
    "asyncio.run(coro, *, debug=None, loop_factory=None)\n",
    "\n",
    "Параметры:\n",
    "\n",
    "coro - точка входа в асинхронную программу,\n",
    "\n",
    "debug=False - включение отладчика,\n",
    "\n",
    "loop_factory=None - используется для переопределения создания цикла событий\n",
    "\n",
    "Функция run() модуля asyncio выполнит сопрограмму coro и вернет результат ее работы.\n",
    "\n",
    "Функция asyncio.run() создает новый цикл событий, запускает переданную сопрограмму coro и в конце закрывает цикл событий. Если в программе используются асинхронные генераторы или пул потоков, то функция завершит их работу.\n",
    "\n",
    "Функция asyncio.run() не может быть вызвана, когда другой цикл событий asyncio выполняется в том же потоке.\n",
    "\n",
    "Если аргумент debug=True, то цикл событий будет выполняться в режиме отладки. Значение False явно отключает режим отладки. None используется для соблюдения глобальных настроек режима отладки.\n",
    "\n",
    "В Python 3.12: добавлен аргумент loop_factory.\n",
    "\n",
    "Если аргумент loop_factory не равен None, то он используется для создания нового цикла событий, в противном случае используется asyncio.new_event_loop(). В обязанности loop_factory входит установка созданного цикла в качестве текущего. Рекомендуется использовать loop_factory для настройки цикла обработки событий вместо использования политик.\n",
    "\n",
    "Функция asyncio.run() всегда создает новый цикл событий и в конце его закрывает. Её следует использовать в качестве основной точки входа для программ с использованием модуля asyncio, а в идеале функцию asyncio.run() следует вызывать только один раз."
   ]
  },
  {
   "cell_type": "code",
   "execution_count": 9,
   "id": "477421f5-7442-49d7-a571-d4be4957404f",
   "metadata": {},
   "outputs": [
    {
     "name": "stdout",
     "output_type": "stream",
     "text": [
      "8.8.8.8        : dns.google\n",
      "1.1.1.1        : one.one.one.one\n",
      "8.8.4.4        : dns.google\n",
      "77.88.8.8      : dns.yandex.ru\n",
      "77.88.8.88     : safe.dns.yandex.ru\n",
      "77.88.8.7      : family.dns.yandex.ru\n"
     ]
    }
   ],
   "source": [
    "async def get_name():\n",
    "    TARGETS = [\n",
    "        ('8.8.8.8', 443),\n",
    "        ('1.1.1.1', 443),\n",
    "        ('8.8.4.4', 443),\n",
    "        ('77.88.8.8', 443),\n",
    "        ('77.88.8.88', 443),\n",
    "        ('77.88.8.7', 443)\n",
    "    ]\n",
    "    \n",
    "    # получаем текущий цикл событий\n",
    "    loop = asyncio.get_event_loop()\n",
    "    \n",
    "    for target in TARGETS:\n",
    "        # запускаем асинхронный вариант \n",
    "        # функции socket.getnameinfo()\n",
    "        host, port = await loop.getnameinfo(target)\n",
    "        # выводим результаты\n",
    "        print(f'{target[0]:15}: {host}')\n",
    "\n",
    "await get_name()"
   ]
  },
  {
   "cell_type": "markdown",
   "id": "d3560558-849f-440c-96cc-850542975068",
   "metadata": {},
   "source": [
    "## Создание и выполнение задач\n",
    "Задачи — это способ запуска сопрограмм параллельно. Для создания задач используйте функцию asyncio.create_task(). Вот пример:"
   ]
  },
  {
   "cell_type": "code",
   "execution_count": 10,
   "id": "1501000b-7907-4c4f-b51c-5157a15afc7e",
   "metadata": {},
   "outputs": [
    {
     "name": "stdout",
     "output_type": "stream",
     "text": [
      "Start foo\n",
      "End foo\n"
     ]
    }
   ],
   "source": [
    "async def foo():\n",
    "    print(\"Start foo\")\n",
    "    await asyncio.sleep(1)\n",
    "    print(\"End foo\")\n",
    " \n",
    "async def main():\n",
    "    task = asyncio.create_task(foo())\n",
    "    await task\n",
    " \n",
    "await main()"
   ]
  },
  {
   "cell_type": "code",
   "execution_count": 11,
   "id": "a6597b24-2b8a-40aa-b503-cff78d5fab26",
   "metadata": {},
   "outputs": [
    {
     "name": "stdout",
     "output_type": "stream",
     "text": [
      "1 msg complete\n",
      "long_operation started\n",
      "2 msg complete\n",
      "long_operation complete\n"
     ]
    }
   ],
   "source": [
    "async def msg(text):\n",
    "    # эмитируем короткую \n",
    "    # задержку в выполнении\n",
    "    await asyncio.sleep(0.1)\n",
    "    print(text)\n",
    "\n",
    "async def long_operation():\n",
    "    # эмитируем долгую \n",
    "    # задержку в выполнении\n",
    "    print('long_operation started')\n",
    "    await asyncio.sleep(3)\n",
    "    print('long_operation complete')\n",
    "\n",
    "# основной цикл программы\n",
    "async def main():\n",
    "    # легкая сопрограмма\n",
    "    await msg('1 msg complete')\n",
    "\n",
    "    # Здесь запустим `long_operation()`, но ждать, пока она \n",
    "    # выполнится не хотим, т.к. необходимо получить второе \n",
    "    # сообщение как можно раньше. Для этого создаем для нее задачу... \n",
    "    task = asyncio.create_task(long_operation())\n",
    "    \n",
    "    # легкая сопрограмма\n",
    "    await msg('2 msg complete')\n",
    "\n",
    "    # Теперь можно дождаться завершения \n",
    "    # задачи или отменить ее\n",
    "    await task\n",
    "\n",
    "await main()"
   ]
  },
  {
   "cell_type": "markdown",
   "id": "c10985d7-f33d-4376-9868-dc051c9d270e",
   "metadata": {},
   "source": [
    "## Работа с несколькими задачами\n",
    "\n",
    "Asyncio позволяет выполнять несколько задач одновременно, используя функцию asyncio.gather(). Вот пример с несколькими асинхронными функциями:"
   ]
  },
  {
   "cell_type": "code",
   "execution_count": 12,
   "id": "37811314-1801-41d0-a6ff-fd147bbd5a98",
   "metadata": {},
   "outputs": [
    {
     "name": "stdout",
     "output_type": "stream",
     "text": [
      "Start foo\n",
      "Start bar\n",
      "End foo\n",
      "End bar\n"
     ]
    }
   ],
   "source": [
    "async def foo():\n",
    "    print(\"Start foo\")\n",
    "    await asyncio.sleep(1)\n",
    "    print(\"End foo\")\n",
    " \n",
    "async def bar():\n",
    "    print(\"Start bar\")\n",
    "    await asyncio.sleep(2)\n",
    "    print(\"End bar\")\n",
    " \n",
    "async def main():\n",
    "    await asyncio.gather(foo(), bar())\n",
    " \n",
    "await main()"
   ]
  },
  {
   "cell_type": "markdown",
   "id": "55155d66-386b-45a6-b077-fc5eafc04c85",
   "metadata": {},
   "source": [
    "### Менеджер контекста для вызовы нескольких асинхронных функций\n",
    "\n",
    "Синтаксис:\n",
    "import asyncio\n",
    "\n",
    "with asyncio.Runner(*, debug=None, loop_factory=None) as runner:\n",
    "    runner.run(main())\n",
    "\n",
    "Параметры:\n",
    "\n",
    "debug=None - режиме отладки,\n",
    "\n",
    "loop_factory=None - переопределяет создания цикла событий."
   ]
  },
  {
   "cell_type": "markdown",
   "id": "00e13606-58b8-4248-bbe5-ddd2d16e86ce",
   "metadata": {},
   "source": [
    "Класс Runner() модуля asyncio представляет собой менеджер контекста, упрощающий вызовы нескольких асинхронных функций в одном контексте.\n",
    "\n",
    "Иногда в одном и том же цикле событий и contextvars.Context следует вызывать несколько асинхронных функций верхнего уровня.\n",
    "\n",
    "Если для аргумента debug установлено значение True, то цикл обработки событий будет выполняться в режиме отладки. False явно отключает режим отладки. None используется для соблюдения глобальных настроек режима отладки.\n",
    "\n",
    "Аргумент loop_factory можно использовать для переопределения создания цикла. В обязанности loop_factory входит установка созданного цикла в качестве текущего. По умолчанию (если loop_factory имеет значение None) для создания цикла событий используется asyncio.new_event_loop(), а как текущий цикл событий устанавливается с помощью функции asyncio.set_event_loop().\n",
    "\n",
    "По сути, пример asyncio.run() можно переписать с использованием asyncio.Runner():\n",
    "\n",
    "'''\n",
    "async def main():\n",
    "    await asyncio.sleep(1)\n",
    "    print('hello')\n",
    "\n",
    "with asyncio.Runner() as runner:\n",
    "    await main()\n",
    "    '''"
   ]
  },
  {
   "cell_type": "markdown",
   "id": "ad9f5d34-06a6-4734-a76e-b02209c06416",
   "metadata": {},
   "source": [
    "## Методы менеджера контекста Runner\n",
    "\n",
    "Runner.run(coro, *, context=None):\n",
    "\n",
    "Метод Runner.run() запускает сопрограмму coro во встроенном цикле. Возвращает результат сопрограммы или вызывает ее исключение.\n",
    "\n",
    "Необязательный ключевой аргумент context, позволяет указать пользовательский contextvars.Context для запуска сопрограммы. Если context=None, то по умолчанию используется контекст Runner.\n",
    "\n",
    "Эта функция не может быть вызвана, когда в том же потоке выполняется другой цикл обработки событий asyncio.\n",
    "\n",
    "Runner.close():\n",
    "\n",
    "Метод Runner.close() закрывает менеджера контекста Runner.\n",
    "\n",
    "Завершает работу асинхронных генераторов, завершает работу исполнителя по умолчанию, закрывает цикл обработки событий и освобождает встроенные переменные contextvars.Context.\n",
    "\n",
    "Runner.get_loop():\n",
    "\n",
    "Метод Runner.get_loop() Вернуть цикл обработки событий, связанный с экземпляром бегуна."
   ]
  },
  {
   "cell_type": "markdown",
   "id": "f092f4c3-9f3e-4f6a-b92b-0b967138bce6",
   "metadata": {},
   "source": [
    "## Асинхронный менеджер TaskGroup() \n",
    "\n",
    "Синтаксис:\n",
    "\n",
    "import asyncio\n",
    "\n",
    "async with asyncio.TaskGroup() as tg:\n",
    "    task1 = tg.create_task(some_coro(...))\n",
    "    ...\n",
    "\n",
    "Класс TaskGroup() (добавлен в Python 3.11.) модуля asyncio представляет собой асинхронный менеджер контекста, содержащий группу задач.\n",
    "\n",
    "Группы задач asyncio.TaskGroup() сочетают в себе API создания задач с удобным и надежным способом ожидания завершения всех задач в группе.\n",
    "\n",
    "Отдельные задачи можно добавлять в группу с помощью метода TaskGroup.create_task(). Все задачи ожидаются при выходе из менеджера контекста.\n",
    "\n",
    "Метод TaskGroup.create_task() создает задачу в этой группе задач. Принимаемые аргументы и поведение этого метода совпадает с описанием asyncio.create_task().\n",
    "\n",
    "Пример:"
   ]
  },
  {
   "cell_type": "code",
   "execution_count": 13,
   "id": "d7d5bafb",
   "metadata": {},
   "outputs": [],
   "source": [
    "\n",
    "async def main():\n",
    "    async with asyncio.TaskGroup() as tg:\n",
    "        task1 = tg.create_task(some_coro(...))\n",
    "        task2 = tg.create_task(another_coro(...))\n",
    "    print(\"Обе задачи уже выполнены.\")"
   ]
  },
  {
   "cell_type": "markdown",
   "id": "11579ae2-da35-4692-8d89-0e6d8f292c68",
   "metadata": {},
   "source": [
    "Оператор async with будет ожидать завершения всех задач в группе. Во время ожидания, в группу, все еще могут быть добавлены новые задачи (например, путем передачи экземпляра tg в одну из сопрограмм и вызова tg.create_task() в этой сопрограмме). После завершения последней задачи и выхода из блока async with в группу нельзя добавлять новые задачи.\n",
    "\n",
    "При первом сбое любой из задач, принадлежащих группе tg, с исключением asyncio.CancelledError, оставшиеся задачи в группе отменяются. После этого в группу нельзя будет добавить больше задач. В этот момент, если тело асинхронного оператора with все еще активно (т. е. __aexit__() еще не вызывалась), то задача, непосредственно содержащая асинхронный оператор with, также отменяется. Полученный asyncio.CancelledError прервет ожидание, но не выйдет из содержащего оператора async with.\n",
    "\n",
    "После завершения всех задач, если какие-либо задачи завершились сбоем с исключением, отличным от asyncio.CancelledError, эти исключения объединяются в ExceptionGroup или BaseExceptionGroup (соответственно; смотрите их документацию), которая затем вызывается.\n",
    "\n",
    "Два базовых исключения обрабатываются особым образом: если какая-либо задача завершается с ошибкой с помощью KeyboardInterrupt или SystemExit, то группа задач по-прежнему отменяет оставшиеся задачи и ожидает их, но затем повторно вызывается первоначальная KeyboardInterrupt или SystemExit вместо ExceptionGroup или BaseExceptionGroup."
   ]
  },
  {
   "cell_type": "markdown",
   "id": "9322e220-6f0d-4006-9350-5695a868b60f",
   "metadata": {},
   "source": [
    "## Функция sleep() модуля asyncio\n",
    "\n",
    "Приостанавливает асинхронную задачу на определенное время\n",
    "Синтаксис:\n",
    "import asyncio\n",
    "\n",
    "await asyncio.sleep(delay, result=None, *, loop=None)\n",
    "\n",
    "Параметры:\n",
    "\n",
    "delay - задержка выполнения задачи\n",
    "\n",
    "result=None - результат, который возвращается вызывающей стороне\n",
    "\n",
    "Функция sleep() модуля asyncio приостанавливает текущую задачу на delay секунд. Применяется внутри сопрограмм с оператором await.\n",
    "\n",
    "Если аргумент result установлен, то он возвращается вызывающей стороне после завершения сопрограммы.\n",
    "\n",
    "Функция asyncio.sleep() всегда приостанавливает текущую задачу, позволяя запускать другие задачи."
   ]
  },
  {
   "cell_type": "code",
   "execution_count": 14,
   "id": "8e24ddf7-fbe4-4654-9f53-5a7b606c132e",
   "metadata": {},
   "outputs": [
    {
     "name": "stdout",
     "output_type": "stream",
     "text": [
      "2024-11-12 21:58:35.711194\n",
      "2024-11-12 21:58:36.716642\n",
      "2024-11-12 21:58:37.731199\n",
      "2024-11-12 21:58:38.739226\n",
      "2024-11-12 21:58:39.749080\n"
     ]
    }
   ],
   "source": [
    "import asyncio\n",
    "import datetime\n",
    "\n",
    "async def display_date():\n",
    "    loop = asyncio.get_running_loop()\n",
    "    end_time = loop.time() + 5.0\n",
    "    while True:\n",
    "        print(datetime.datetime.now())\n",
    "        if (loop.time() + 1.0) >= end_time:\n",
    "            break\n",
    "        await asyncio.sleep(1)\n",
    "\n",
    "await display_date()"
   ]
  },
  {
   "cell_type": "markdown",
   "id": "ed19e492-bc16-4513-ba32-231852452049",
   "metadata": {},
   "source": [
    "## Функция gather() модуля asyncio\n",
    "\n",
    "Синтаксис:\n",
    "\n",
    "import asyncio\n",
    "\n",
    "await asyncio.gather(*aws, loop=None, return_exceptions=False)\n",
    "\n",
    "Параметры:\n",
    "\n",
    "*aws - последовательность объектов ожидания,\n",
    "\n",
    "loop=None - параметр цикла (устарел и будет удален в Python 3.10),\n",
    "\n",
    "return_exceptions=False - обработка исключений.\n",
    "\n",
    "Функция gather() модуля asyncio одновременно запускает объекты awaitable, переданные в функцию как последовательность *aws.\n",
    "\n",
    "Функция asyncio.gather() представляет то же объект ожидания awaitable и запускается оператором await.\n",
    "\n",
    "Если какой-либо объект awaitable в последовательности *aws является сопрограммой, то она автоматически назначается как задача asyncio.Task.\n",
    "\n",
    "Если все awaitable объекты завершены успешно, то результатом является совокупный список возвращенных значений этих объектов. Порядок значений результатов соответствует порядку переданных объектов в последовательность aws.\n",
    "\n",
    "Если аргумент return_exceptions=False (по умолчанию), то первое появившееся исключение, немедленно распространяется на ту задачу, в которой оно возникло в момент ожидания asyncio.gather(). При этом другие объекты в последовательности aws не будут отменены и продолжат выполнение.\n",
    "\n",
    "Если return_exceptions=True, то исключения обрабатываются так же, как успешные результаты и передаются в совокупный список результатов.\n",
    "\n",
    "Если выполнение asyncio.gather() отменяется, то все отправленные в функцию объекты, которые еще не завершены, также отменяются.\n",
    "\n",
    "Если какая-либо задача Task или объект Future отменяется в последовательности aws, то она обрабатывается так, как если бы она вызвала исключение asyncio.CancelledError - в этом случае вызов самой функции asyncio.gather() не отменяется. Это делается для того, чтобы отмена одной отправленной Task/Future не привела к отмене других Task/Future.\n",
    "\n",
    "ВАЖНО!!!\n",
    "\n",
    "Запускаемые сопрограммы (асинхронные функции) не должны содержать внутри себя операции, блокирующие ход выполнения программы! Другими словами, нельзя какую либо встроенную синхронную функцию (типа socket.getnameinfo()) обернуть в асинхронную функцию (async def ...) и думать, что этот код будет работать асинхронно. НЕТ. Такая сопрограмма так же будет блокировать остальной код.\n",
    "\n",
    "Пример вызова нескольких задач одновременно:\n"
   ]
  },
  {
   "cell_type": "code",
   "execution_count": 15,
   "id": "f85b0c98-50da-43e1-b966-abbf7e982a86",
   "metadata": {},
   "outputs": [
    {
     "name": "stdout",
     "output_type": "stream",
     "text": [
      "Task A: Compute factorial(2)...\n",
      "Task B: Compute factorial(2)...\n",
      "Task C: Compute factorial(2)...\n",
      "Task A: factorial(2) = 2\n",
      "Task B: Compute factorial(3)...\n",
      "Task C: Compute factorial(3)...\n",
      "Task B: factorial(3) = 6\n",
      "Task C: Compute factorial(4)...\n",
      "Task C: factorial(4) = 24\n",
      "[None, None, None]\n"
     ]
    }
   ],
   "source": [
    "async def factorial(name, number):\n",
    "    f = 1\n",
    "    for i in range(2, number + 1):\n",
    "        print(f\"Task {name}: Compute factorial({i})...\")\n",
    "        await asyncio.sleep(1)\n",
    "        f *= i\n",
    "    print(f\"Task {name}: factorial({number}) = {f}\")\n",
    "\n",
    "async def main():\n",
    "    args = [('A', 2), ('B', 3), ('C', 4)]\n",
    "    tasks=[]\n",
    "    for arg in args:\n",
    "        # создаем задачи\n",
    "        task = factorial(*arg)\n",
    "        # складываем задачи в список\n",
    "        tasks.append(task)\n",
    "        \n",
    "    # планируем одновременные вызовы\n",
    "    L = await asyncio.gather(*tasks)\n",
    "    print(L)\n",
    "\n",
    "results = await main()\n",
    "\n",
    "# Expected output:\n",
    "#\n",
    "#     Task A: Compute factorial(2)...\n",
    "#     Task B: Compute factorial(2)...\n",
    "#     Task C: Compute factorial(2)...\n",
    "#     Task A: factorial(2) = 2\n",
    "#     Task B: Compute factorial(3)...\n",
    "#     Task C: Compute factorial(3)...\n",
    "#     Task B: factorial(3) = 6\n",
    "#     Task C: Compute factorial(4)...\n",
    "#     Task C: factorial(4) = 24"
   ]
  },
  {
   "cell_type": "markdown",
   "id": "6926786e-b824-4642-a150-c95a322ddb14",
   "metadata": {},
   "source": [
    "### Пример объединения нескольких сопрограмм в группы вызовов.\n",
    "\n",
    "В примере, группу спланированных задач можно отменить, вызвав например group2.cancel() или можно отменить сразу все задачи, вызвав all_result.cancel()."
   ]
  },
  {
   "cell_type": "code",
   "execution_count": 16,
   "id": "384e4d00-7438-4d54-857c-8c627e3dfa27",
   "metadata": {},
   "outputs": [
    {
     "name": "stdout",
     "output_type": "stream",
     "text": [
      "Run: Группа 1.1\n",
      "Run: Группа 1.2\n",
      "Run: Группа 1.3\n",
      "Run: Группа 1.4\n",
      "Run: Группа 1.5\n",
      "Run: Группа 2.1\n",
      "Run: Группа 2.2\n",
      "Run: Группа 2.3\n",
      "Run: Группа 3.1\n",
      "Run: Группа 3.2\n",
      "Run: Группа 3.3\n",
      "Run: Группа 3.4\n",
      "Done: Группа 3.4\n",
      "Done: Группа 3.1\n",
      "Done: Группа 1.5\n",
      "Done: Группа 1.4\n",
      "Done: Группа 1.2\n",
      "Done: Группа 3.3\n",
      "Done: Группа 2.3\n",
      "Done: Группа 2.1\n",
      "Done: Группа 2.2\n",
      "Done: Группа 3.2\n",
      "Done: Группа 1.1\n",
      "Done: Группа 1.3\n",
      "[['Группа 1.1', 'Группа 1.2', 'Группа 1.3', 'Группа 1.4', 'Группа 1.5'],\n",
      " ['Группа 2.1', 'Группа 2.2', 'Группа 2.3'],\n",
      " ['Группа 3.1', 'Группа 3.2', 'Группа 3.3', 'Группа 3.4']]\n"
     ]
    }
   ],
   "source": [
    "import asyncio, random\n",
    "from pprint import pprint\n",
    "\n",
    "async def worker(tag):\n",
    "    print('Run:', tag)\n",
    "    await asyncio.sleep(random.uniform(1, 3))\n",
    "    print('Done:', tag)\n",
    "    return tag\n",
    "\n",
    "\n",
    "async def main():\n",
    "    # объединяем сопрограммы в группы, для планирования запуска\n",
    "    group1 = asyncio.gather(*[worker(f'Группа 1.{i}') for i in range(1, 6)])\n",
    "    group2 = asyncio.gather(*[worker(f'Группа 2.{i}') for i in range(1, 4)])\n",
    "    group3 = asyncio.gather(*[worker(f'Группа 3.{i}') for i in range(1, 5)])\n",
    "    # асинхронно запускаем созданные группы оператором `await` \n",
    "    all_result = await asyncio.gather(group1, group2, group3)\n",
    "    # смотрим результаты\n",
    "    pprint(all_result)\n",
    "\n",
    "await main()"
   ]
  },
  {
   "cell_type": "markdown",
   "id": "ca8a25c8-533e-44a8-a538-b2abae3142f4",
   "metadata": {},
   "source": [
    "## Функция as_completed() модуля asyncio\n",
    "\n",
    "Синтаксис:\n",
    "import asyncio\n",
    "\n",
    "asyncio.as_completed(aws, *, loop=None, timeout=None)\n",
    "\n",
    "Параметры:\n",
    "\n",
    "aws - множество объектов ожидания\n",
    "\n",
    "timeout=None - максимальным количеством секунд ожидания\n",
    "\n",
    "Функция as_completed() модуля asyncio одновременно запускает объекты awaitable, переданные в итерации aws, ждет их выполнения и по готовности любого начинает возвращать готовые объекты Future.\n",
    "\n",
    "Другими словами, функция asyncio.as_completed() запускает и ждет выполнения переданных в нее задач/awaitable-объектов, и как только появляются результаты у какой-нибудь задачи, в реальном времени, начинает возвращать их в итераторе. Результаты извлекаются, запуском каждого объекта итератора при помощи оператора await.\n",
    "\n",
    "Например:\n",
    "\n",
    "for coro in as_completed(aws):\n",
    "    earliest_result = await coro\n",
    "    # ...\n",
    "Аргумент timeout (float или int) в секундах, если он указан, можно использовать для управления максимальным временем ожидания, перед тем, как остановить не выполненные задачи, оставшихся в итераторе aws."
   ]
  },
  {
   "cell_type": "markdown",
   "id": "7e9ff396-f86c-4e5c-9967-6f50b4c2da24",
   "metadata": {},
   "source": [
    "Пример получения результатов из сопрограмм в реальном времени:"
   ]
  },
  {
   "cell_type": "code",
   "execution_count": 17,
   "id": "e3006611-8308-4bf2-947e-ce415452f0c9",
   "metadata": {},
   "outputs": [
    {
     "name": "stdout",
     "output_type": "stream",
     "text": [
      "Задача: three; задержка: 0.2\n",
      "Задача: one; задержка: 0.5\n",
      "Задача: five; задержка: 0.5\n",
      "Задача: two; задержка: 0.8\n",
      "Задача: four; задержка: 1\n",
      "Общее время выполнения: 1.011 сек.\n"
     ]
    }
   ],
   "source": [
    "import asyncio, time\n",
    "\n",
    "async def worker(delay, name):\n",
    "    # эмитируем ожидание какого-то ответа \n",
    "    # ответа от стороннего сервиса\n",
    "    await asyncio.sleep(delay)\n",
    "    # возвращаем результат\n",
    "    return name, delay\n",
    "\n",
    "async def main():\n",
    "    # список аргументов для `worker()``\n",
    "    targets = [(0.5, 'one'), (0.8, 'two'), \n",
    "          (0.2, 'three'), (1, 'four'), (0.5, 'five')]\n",
    "    \n",
    "    # создаем задачи\n",
    "    tasks = [asyncio.create_task(worker(*target)) for target in targets]\n",
    "    \n",
    "    # передаем задачи в функцию `as_completed()`\n",
    "    for future in asyncio.as_completed(tasks):\n",
    "        # получаем результаты по готовности \n",
    "        res = await future\n",
    "        # выводим на печать\n",
    "        print(f'Задача: {res[0]}; задержка: {res[1]}')\n",
    "        \n",
    "start = time.time()\n",
    "# запускаем цикл событий\n",
    "await main()\n",
    "\n",
    "total = time.time() - start\n",
    "print(f'Общее время выполнения: {total:.3f} сек.')"
   ]
  },
  {
   "cell_type": "markdown",
   "id": "344f7852-7bf4-4e7a-a451-98fead28d321",
   "metadata": {},
   "source": [
    "Попробуйте в функцию передать значение таймаута, сначала 0.8 секунды - asyncio.as_completed(tasks, dalay=0.8), а потом 1.1 секунды и проследить поведение программы."
   ]
  },
  {
   "cell_type": "markdown",
   "id": "ac1b394c-e87a-4532-92a6-81655cb6fdf6",
   "metadata": {},
   "source": [
    "## Функция wait() модуля asyncio\n",
    "\n",
    "Приостановка выполнение задач по таймауту или условию\n",
    "\n",
    "Синтаксис:\n",
    "import asyncio\n",
    "\n",
    "done, pending = asyncio.wait(aws, *, loop=None, timeout=None, \n",
    "                             return_when=ALL_COMPLETED)\n",
    "Параметры:\n",
    "\n",
    "aws - множество объектов ожидания,\n",
    "\n",
    "timeout=None - максимальным количеством секунд ожидания,\n",
    "\n",
    "return_when=ALL_COMPLETED - когда функция должна возвратить результат.\n",
    "\n",
    "Функция wait() модуля asyncio одновременно запускает awaitable-объекты (преимущественно задачи Task) из переданного множества aws и производит блокировку выполнения программы до выполнения условия, указанного в аргументе return_when.\n",
    "\n",
    "Возвращает кортеж из двух множеств Task/Future в виде (done, pending).\n",
    "\n",
    "Псевдокод:\n",
    "done, pending = await asyncio.wait(aws)\n",
    "\n",
    "Аргумент timeout (float или int) в секундах, если он указан, можно использовать для управления временем ожидания результатов задач, из множества aws, прежде чем приостановить не выполненные задачи.\n",
    "\n",
    "Обратите внимание, что функция asyncio.wait() не вызывает исключение asyncio.TimeoutError. Задачи, которые не успели выполнится по истечении timeout, приостанавливают свое выполнение и возвращаются во втором множестве pending. В последствии, можно возобновить выполнение приостановленных задач.\n",
    "\n",
    "Аргумент return_when указывает, когда функция asyncio.wait() должна возвратить результат. Это должна быть одна из следующих констант:\n",
    "\n",
    "* asyncio.FIRST_COMPLETED\tФункция возвратит результат, когда любой из Future завершится или был отменен.\n",
    "\n",
    "* asyncio.FIRST_EXCEPTION\tФункция возвратит результат, когда любой из Future завершится созданием исключения. Если никакое Future не вызывает исключения, то эта константа эквивалентна asyncio.ALL_COMPLETED.\n",
    "\n",
    "* asyncio.ALL_COMPLETED\tФункция возвратит результат, когда все Future завершатся или будут отменены.\n",
    "\n",
    "В отличие от функции asyncio.wait_for(), asyncio.wait() не отменяет, а приостанавливает задачи при наступлении таймаута.\n",
    "\n",
    "Функция asyncio.wait_for() поддерживает приостановку выполнения задач, после получения результата задачи, которая вернула их первой или после указанного таймаута, что обеспечивает более низкий уровень точности операций:"
   ]
  },
  {
   "cell_type": "code",
   "execution_count": 19,
   "id": "79bfac12-f108-4342-8449-cd71e0b04983",
   "metadata": {},
   "outputs": [
    {
     "name": "stdout",
     "output_type": "stream",
     "text": [
      "Run: 1\n",
      "Run: 2\n",
      "Run: 3\n",
      "Run: 4\n",
      "Run: 5\n",
      "Run: 6\n",
      "Run: 7\n",
      "Done: 4\n",
      "Приостановка задач, после получения первого результата:\n",
      "  Результаты задачи №4 получены.\n",
      "Кол-во приостановленных задач: 6 \n",
      "\n",
      "Done: 2\n",
      "Done: 3\n",
      "Done: 5\n",
      "Дальнейшие результаты после таймаута в 2 сек:\n",
      "  Результаты задачи №3 получены.\n",
      "  Результаты задачи №5 получены.\n",
      "  Результаты задачи №2 получены.\n",
      "Кол-во остановленных задач после 2 сек. работы: 3 \n",
      "\n",
      "Done: 6\n",
      "Done: 1\n",
      "Done: 7\n",
      "Получаем оставшиеся результаты:\n",
      "Результаты задачи №6 получены.\n",
      "Результаты задачи №7 получены.\n",
      "Результаты задачи №1 получены.\n"
     ]
    }
   ],
   "source": [
    "import asyncio, random\n",
    "\n",
    "async def worker(tag):\n",
    "    \"\"\"Основная сопрограмма\"\"\"\n",
    "    print('Run:', tag)\n",
    "    # эмитируем ожидание ответа сервера случайным\n",
    "    # образом при помощи модуля `random` \n",
    "    await asyncio.sleep(random.uniform(0.5, 5))\n",
    "    print('Done:', tag)\n",
    "    return tag\n",
    "\n",
    "async def main():\n",
    "    \"\"\"Точка входа в программу\"\"\"\n",
    "    # создаем и планируем асинхронный запуск задач\n",
    "    tasks = [asyncio.create_task(worker(tag)) for tag in range(1, 8)]\n",
    "\n",
    "    # запускаем созданные задачи до получения любого первого результата\n",
    "    done, pending1 = await asyncio.wait(tasks, return_when=asyncio.FIRST_COMPLETED)\n",
    "    print(\"Приостановка задач, после получения первого результата:\")\n",
    "    for future in done:\n",
    "        res = future.result()\n",
    "        print(f'  Результаты задачи №{res} получены.')\n",
    "    print(\"Кол-во приостановленных задач:\", len(pending1), '\\n')\n",
    "\n",
    "    # запускаем приостановленные задачи с таймаутом в 2 сек\n",
    "    done, pending2 = await asyncio.wait(pending1, timeout=2)\n",
    "    print(\"Дальнейшие результаты после таймаута в 2 сек:\")\n",
    "    for future in done:\n",
    "        res = future.result()\n",
    "        print(f'  Результаты задачи №{res} получены.')\n",
    "    print(\"Кол-во остановленных задач после 2 сек. работы:\", len(pending2), '\\n')\n",
    "\n",
    "    done, _ = await asyncio.wait(pending2)\n",
    "    print(\"Получаем оставшиеся результаты:\")\n",
    "    for future in done:\n",
    "        res = future.result()\n",
    "        print(f'Результаты задачи №{res} получены.')\n",
    "\n",
    "await main()"
   ]
  },
  {
   "cell_type": "code",
   "execution_count": null,
   "id": "217f08cb-4a83-4a70-b2f4-f98398655d61",
   "metadata": {},
   "outputs": [],
   "source": []
  }
 ],
 "metadata": {
  "kernelspec": {
   "display_name": "Python 3 (ipykernel)",
   "language": "python",
   "name": "python3"
  },
  "language_info": {
   "codemirror_mode": {
    "name": "ipython",
    "version": 3
   },
   "file_extension": ".py",
   "mimetype": "text/x-python",
   "name": "python",
   "nbconvert_exporter": "python",
   "pygments_lexer": "ipython3",
   "version": "3.12.7"
  }
 },
 "nbformat": 4,
 "nbformat_minor": 5
}
